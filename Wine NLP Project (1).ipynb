{
 "cells": [
  {
   "cell_type": "markdown",
   "metadata": {},
   "source": [
    "# Creating an NLP Neural Network to Predict Category of Wine"
   ]
  },
  {
   "cell_type": "markdown",
   "metadata": {},
   "source": [
    "## Flatiron School - Cohort 100719PT\n",
    "## Instructor - James Irving\n",
    "## By Acusio Bivona"
   ]
  },
  {
   "cell_type": "markdown",
   "metadata": {},
   "source": [
    "### Introduction: For this project, I will be using a deep NLP network and a random forest model on a dataset consisting of professional wine reviews in an attempt to try and determine if specific keywords are affiliated with cheap or expensive wine. One important thing to note is that the price point for cheap vs. expensive wine was arbitrarily chosen based on the distribution of the data. \n",
    "\n",
    "### If such results are determined, then I believe a use case for these results would be that a winery can use the specific keywords in their marketing efforts to both portray a 'fancier' feel to cheap wines, as well as provide a 'friendlier' feel to expensive wines. I also believe that wineries can take these keywords and use them in wine production, such as finding unique flavors and aromas for each group and experimenting with their recipes to provide different products that can be more appealing to more groups. "
   ]
  },
  {
   "cell_type": "markdown",
   "metadata": {},
   "source": [
    "# Obtain and investigate data"
   ]
  },
  {
   "cell_type": "code",
   "execution_count": 1,
   "metadata": {},
   "outputs": [
    {
     "data": {
      "text/html": [
       "<div>\n",
       "<style scoped>\n",
       "    .dataframe tbody tr th:only-of-type {\n",
       "        vertical-align: middle;\n",
       "    }\n",
       "\n",
       "    .dataframe tbody tr th {\n",
       "        vertical-align: top;\n",
       "    }\n",
       "\n",
       "    .dataframe thead th {\n",
       "        text-align: right;\n",
       "    }\n",
       "</style>\n",
       "<table border=\"1\" class=\"dataframe\">\n",
       "  <thead>\n",
       "    <tr style=\"text-align: right;\">\n",
       "      <th></th>\n",
       "      <th>Unnamed: 0</th>\n",
       "      <th>country</th>\n",
       "      <th>description</th>\n",
       "      <th>designation</th>\n",
       "      <th>points</th>\n",
       "      <th>price</th>\n",
       "      <th>province</th>\n",
       "      <th>region_1</th>\n",
       "      <th>region_2</th>\n",
       "      <th>taster_name</th>\n",
       "      <th>taster_twitter_handle</th>\n",
       "      <th>title</th>\n",
       "      <th>variety</th>\n",
       "      <th>winery</th>\n",
       "    </tr>\n",
       "  </thead>\n",
       "  <tbody>\n",
       "    <tr>\n",
       "      <td>0</td>\n",
       "      <td>0</td>\n",
       "      <td>Italy</td>\n",
       "      <td>Aromas include tropical fruit, broom, brimston...</td>\n",
       "      <td>Vulkà Bianco</td>\n",
       "      <td>87</td>\n",
       "      <td>NaN</td>\n",
       "      <td>Sicily &amp; Sardinia</td>\n",
       "      <td>Etna</td>\n",
       "      <td>NaN</td>\n",
       "      <td>Kerin O’Keefe</td>\n",
       "      <td>@kerinokeefe</td>\n",
       "      <td>Nicosia 2013 Vulkà Bianco  (Etna)</td>\n",
       "      <td>White Blend</td>\n",
       "      <td>Nicosia</td>\n",
       "    </tr>\n",
       "    <tr>\n",
       "      <td>1</td>\n",
       "      <td>1</td>\n",
       "      <td>Portugal</td>\n",
       "      <td>This is ripe and fruity, a wine that is smooth...</td>\n",
       "      <td>Avidagos</td>\n",
       "      <td>87</td>\n",
       "      <td>15.0</td>\n",
       "      <td>Douro</td>\n",
       "      <td>NaN</td>\n",
       "      <td>NaN</td>\n",
       "      <td>Roger Voss</td>\n",
       "      <td>@vossroger</td>\n",
       "      <td>Quinta dos Avidagos 2011 Avidagos Red (Douro)</td>\n",
       "      <td>Portuguese Red</td>\n",
       "      <td>Quinta dos Avidagos</td>\n",
       "    </tr>\n",
       "    <tr>\n",
       "      <td>2</td>\n",
       "      <td>2</td>\n",
       "      <td>US</td>\n",
       "      <td>Tart and snappy, the flavors of lime flesh and...</td>\n",
       "      <td>NaN</td>\n",
       "      <td>87</td>\n",
       "      <td>14.0</td>\n",
       "      <td>Oregon</td>\n",
       "      <td>Willamette Valley</td>\n",
       "      <td>Willamette Valley</td>\n",
       "      <td>Paul Gregutt</td>\n",
       "      <td>@paulgwine</td>\n",
       "      <td>Rainstorm 2013 Pinot Gris (Willamette Valley)</td>\n",
       "      <td>Pinot Gris</td>\n",
       "      <td>Rainstorm</td>\n",
       "    </tr>\n",
       "    <tr>\n",
       "      <td>3</td>\n",
       "      <td>3</td>\n",
       "      <td>US</td>\n",
       "      <td>Pineapple rind, lemon pith and orange blossom ...</td>\n",
       "      <td>Reserve Late Harvest</td>\n",
       "      <td>87</td>\n",
       "      <td>13.0</td>\n",
       "      <td>Michigan</td>\n",
       "      <td>Lake Michigan Shore</td>\n",
       "      <td>NaN</td>\n",
       "      <td>Alexander Peartree</td>\n",
       "      <td>NaN</td>\n",
       "      <td>St. Julian 2013 Reserve Late Harvest Riesling ...</td>\n",
       "      <td>Riesling</td>\n",
       "      <td>St. Julian</td>\n",
       "    </tr>\n",
       "    <tr>\n",
       "      <td>4</td>\n",
       "      <td>4</td>\n",
       "      <td>US</td>\n",
       "      <td>Much like the regular bottling from 2012, this...</td>\n",
       "      <td>Vintner's Reserve Wild Child Block</td>\n",
       "      <td>87</td>\n",
       "      <td>65.0</td>\n",
       "      <td>Oregon</td>\n",
       "      <td>Willamette Valley</td>\n",
       "      <td>Willamette Valley</td>\n",
       "      <td>Paul Gregutt</td>\n",
       "      <td>@paulgwine</td>\n",
       "      <td>Sweet Cheeks 2012 Vintner's Reserve Wild Child...</td>\n",
       "      <td>Pinot Noir</td>\n",
       "      <td>Sweet Cheeks</td>\n",
       "    </tr>\n",
       "  </tbody>\n",
       "</table>\n",
       "</div>"
      ],
      "text/plain": [
       "   Unnamed: 0   country                                        description  \\\n",
       "0           0     Italy  Aromas include tropical fruit, broom, brimston...   \n",
       "1           1  Portugal  This is ripe and fruity, a wine that is smooth...   \n",
       "2           2        US  Tart and snappy, the flavors of lime flesh and...   \n",
       "3           3        US  Pineapple rind, lemon pith and orange blossom ...   \n",
       "4           4        US  Much like the regular bottling from 2012, this...   \n",
       "\n",
       "                          designation  points  price           province  \\\n",
       "0                        Vulkà Bianco      87    NaN  Sicily & Sardinia   \n",
       "1                            Avidagos      87   15.0              Douro   \n",
       "2                                 NaN      87   14.0             Oregon   \n",
       "3                Reserve Late Harvest      87   13.0           Michigan   \n",
       "4  Vintner's Reserve Wild Child Block      87   65.0             Oregon   \n",
       "\n",
       "              region_1           region_2         taster_name  \\\n",
       "0                 Etna                NaN       Kerin O’Keefe   \n",
       "1                  NaN                NaN          Roger Voss   \n",
       "2    Willamette Valley  Willamette Valley        Paul Gregutt   \n",
       "3  Lake Michigan Shore                NaN  Alexander Peartree   \n",
       "4    Willamette Valley  Willamette Valley        Paul Gregutt   \n",
       "\n",
       "  taster_twitter_handle                                              title  \\\n",
       "0          @kerinokeefe                  Nicosia 2013 Vulkà Bianco  (Etna)   \n",
       "1            @vossroger      Quinta dos Avidagos 2011 Avidagos Red (Douro)   \n",
       "2           @paulgwine       Rainstorm 2013 Pinot Gris (Willamette Valley)   \n",
       "3                   NaN  St. Julian 2013 Reserve Late Harvest Riesling ...   \n",
       "4           @paulgwine   Sweet Cheeks 2012 Vintner's Reserve Wild Child...   \n",
       "\n",
       "          variety               winery  \n",
       "0     White Blend              Nicosia  \n",
       "1  Portuguese Red  Quinta dos Avidagos  \n",
       "2      Pinot Gris            Rainstorm  \n",
       "3        Riesling           St. Julian  \n",
       "4      Pinot Noir         Sweet Cheeks  "
      ]
     },
     "execution_count": 1,
     "metadata": {},
     "output_type": "execute_result"
    }
   ],
   "source": [
    "import pandas as pd\n",
    "df = pd.read_csv(\"winemag-data-130k-v2.csv\")\n",
    "df.head()"
   ]
  },
  {
   "cell_type": "code",
   "execution_count": 2,
   "metadata": {},
   "outputs": [
    {
     "name": "stdout",
     "output_type": "stream",
     "text": [
      "<class 'pandas.core.frame.DataFrame'>\n",
      "RangeIndex: 129971 entries, 0 to 129970\n",
      "Data columns (total 14 columns):\n",
      "Unnamed: 0               129971 non-null int64\n",
      "country                  129908 non-null object\n",
      "description              129971 non-null object\n",
      "designation              92506 non-null object\n",
      "points                   129971 non-null int64\n",
      "price                    120975 non-null float64\n",
      "province                 129908 non-null object\n",
      "region_1                 108724 non-null object\n",
      "region_2                 50511 non-null object\n",
      "taster_name              103727 non-null object\n",
      "taster_twitter_handle    98758 non-null object\n",
      "title                    129971 non-null object\n",
      "variety                  129970 non-null object\n",
      "winery                   129971 non-null object\n",
      "dtypes: float64(1), int64(2), object(11)\n",
      "memory usage: 13.9+ MB\n"
     ]
    }
   ],
   "source": [
    "df.info()"
   ]
  },
  {
   "cell_type": "code",
   "execution_count": 3,
   "metadata": {},
   "outputs": [],
   "source": [
    "df.drop(['Unnamed: 0'], axis=1, inplace=True)"
   ]
  },
  {
   "cell_type": "code",
   "execution_count": 4,
   "metadata": {},
   "outputs": [
    {
     "data": {
      "text/plain": [
       "country                     63\n",
       "description                  0\n",
       "designation              37465\n",
       "points                       0\n",
       "price                     8996\n",
       "province                    63\n",
       "region_1                 21247\n",
       "region_2                 79460\n",
       "taster_name              26244\n",
       "taster_twitter_handle    31213\n",
       "title                        0\n",
       "variety                      1\n",
       "winery                       0\n",
       "dtype: int64"
      ]
     },
     "execution_count": 4,
     "metadata": {},
     "output_type": "execute_result"
    }
   ],
   "source": [
    "df.isna().sum()"
   ]
  },
  {
   "cell_type": "code",
   "execution_count": 5,
   "metadata": {},
   "outputs": [],
   "source": [
    "def fill_cols_na(df, column):\n",
    "    \n",
    "    \"\"\"This function can be used to fill in columns with a literal 'N/A', if it is necessary\n",
    "    \n",
    "    Parameters:\n",
    "    \n",
    "    df - dataframe to pull columns from\n",
    "    \n",
    "    column - can be a single column or list of columns\"\"\"\n",
    "        \n",
    "    df2 = df.copy()\n",
    "    \n",
    "    df2[column] = df2[column].fillna('N/A')\n",
    "    \n",
    "    return df2"
   ]
  },
  {
   "cell_type": "code",
   "execution_count": 6,
   "metadata": {},
   "outputs": [],
   "source": [
    "df = fill_cols_na(df, ['country', 'designation', 'province', 'region_1', 'region_2', 'taster_name',\n",
    "                      'taster_twitter_handle', 'variety'])"
   ]
  },
  {
   "cell_type": "code",
   "execution_count": 7,
   "metadata": {},
   "outputs": [],
   "source": [
    "pd.set_option('display.max_rows', 500)"
   ]
  },
  {
   "cell_type": "code",
   "execution_count": 8,
   "metadata": {
    "scrolled": true
   },
   "outputs": [
    {
     "data": {
      "text/plain": [
       "20.0      6940\n",
       "15.0      6066\n",
       "25.0      5805\n",
       "30.0      4951\n",
       "18.0      4883\n",
       "12.0      3934\n",
       "40.0      3872\n",
       "35.0      3801\n",
       "13.0      3549\n",
       "16.0      3547\n",
       "10.0      3439\n",
       "22.0      3357\n",
       "50.0      3334\n",
       "14.0      3215\n",
       "45.0      3135\n",
       "17.0      3053\n",
       "28.0      2942\n",
       "24.0      2826\n",
       "19.0      2816\n",
       "60.0      2277\n",
       "11.0      2058\n",
       "55.0      1981\n",
       "32.0      1963\n",
       "38.0      1728\n",
       "23.0      1715\n",
       "26.0      1706\n",
       "65.0      1614\n",
       "75.0      1403\n",
       "42.0      1403\n",
       "36.0      1392\n",
       "29.0      1387\n",
       "9.0       1339\n",
       "48.0      1309\n",
       "21.0      1232\n",
       "27.0      1193\n",
       "70.0      1100\n",
       "34.0      1069\n",
       "39.0       924\n",
       "8.0        892\n",
       "80.0       881\n",
       "33.0       668\n",
       "90.0       665\n",
       "85.0       655\n",
       "44.0       586\n",
       "100.0      585\n",
       "49.0       585\n",
       "37.0       527\n",
       "52.0       517\n",
       "7.0        433\n",
       "46.0       430\n",
       "58.0       413\n",
       "95.0       397\n",
       "54.0       384\n",
       "125.0      328\n",
       "43.0       311\n",
       "56.0       291\n",
       "31.0       276\n",
       "59.0       263\n",
       "120.0      262\n",
       "62.0       253\n",
       "150.0      239\n",
       "47.0       239\n",
       "68.0       222\n",
       "110.0      200\n",
       "69.0       195\n",
       "41.0       194\n",
       "53.0       187\n",
       "64.0       186\n",
       "72.0       178\n",
       "57.0       144\n",
       "130.0      141\n",
       "105.0      133\n",
       "79.0       128\n",
       "78.0       125\n",
       "6.0        120\n",
       "66.0       118\n",
       "115.0      114\n",
       "140.0      112\n",
       "135.0      110\n",
       "63.0        98\n",
       "200.0       94\n",
       "67.0        89\n",
       "99.0        84\n",
       "175.0       82\n",
       "51.0        79\n",
       "82.0        75\n",
       "89.0        70\n",
       "145.0       67\n",
       "74.0        65\n",
       "92.0        61\n",
       "160.0       60\n",
       "61.0        59\n",
       "73.0        53\n",
       "88.0        52\n",
       "77.0        52\n",
       "250.0       51\n",
       "98.0        48\n",
       "5.0         46\n",
       "86.0        45\n",
       "84.0        44\n",
       "225.0       41\n",
       "76.0        39\n",
       "96.0        37\n",
       "300.0       36\n",
       "165.0       36\n",
       "155.0       34\n",
       "170.0       34\n",
       "94.0        33\n",
       "87.0        32\n",
       "180.0       31\n",
       "93.0        30\n",
       "112.0       29\n",
       "103.0       28\n",
       "450.0       27\n",
       "97.0        27\n",
       "83.0        27\n",
       "108.0       27\n",
       "190.0       26\n",
       "195.0       26\n",
       "350.0       21\n",
       "210.0       21\n",
       "71.0        20\n",
       "107.0       19\n",
       "185.0       19\n",
       "102.0       18\n",
       "81.0        17\n",
       "149.0       17\n",
       "400.0       17\n",
       "260.0       17\n",
       "104.0       16\n",
       "106.0       16\n",
       "101.0       15\n",
       "240.0       15\n",
       "275.0       15\n",
       "500.0       14\n",
       "118.0       14\n",
       "109.0       14\n",
       "128.0       14\n",
       "111.0       13\n",
       "114.0       13\n",
       "235.0       13\n",
       "220.0       13\n",
       "113.0       13\n",
       "129.0       12\n",
       "290.0       12\n",
       "230.0       12\n",
       "169.0       12\n",
       "325.0       11\n",
       "116.0       11\n",
       "117.0       11\n",
       "132.0       11\n",
       "4.0         11\n",
       "91.0        10\n",
       "138.0       10\n",
       "119.0        8\n",
       "199.0        8\n",
       "330.0        8\n",
       "142.0        8\n",
       "139.0        8\n",
       "320.0        8\n",
       "127.0        8\n",
       "215.0        8\n",
       "122.0        8\n",
       "255.0        7\n",
       "124.0        7\n",
       "179.0        7\n",
       "126.0        7\n",
       "365.0        7\n",
       "163.0        6\n",
       "143.0        6\n",
       "460.0        6\n",
       "299.0        6\n",
       "440.0        6\n",
       "236.0        5\n",
       "550.0        5\n",
       "168.0        5\n",
       "800.0        5\n",
       "141.0        5\n",
       "154.0        5\n",
       "133.0        5\n",
       "280.0        5\n",
       "148.0        5\n",
       "159.0        5\n",
       "279.0        5\n",
       "249.0        5\n",
       "137.0        5\n",
       "375.0        5\n",
       "134.0        4\n",
       "775.0        4\n",
       "380.0        4\n",
       "600.0        4\n",
       "625.0        4\n",
       "245.0        4\n",
       "360.0        4\n",
       "131.0        4\n",
       "152.0        4\n",
       "147.0        4\n",
       "166.0        4\n",
       "146.0        4\n",
       "270.0        4\n",
       "227.0        4\n",
       "144.0        4\n",
       "164.0        3\n",
       "530.0        3\n",
       "305.0        3\n",
       "475.0        3\n",
       "295.0        3\n",
       "286.0        3\n",
       "595.0        3\n",
       "262.0        3\n",
       "430.0        3\n",
       "136.0        3\n",
       "123.0        3\n",
       "153.0        3\n",
       "495.0        3\n",
       "850.0        3\n",
       "158.0        3\n",
       "162.0        3\n",
       "312.0        3\n",
       "650.0        3\n",
       "237.0        3\n",
       "167.0        3\n",
       "1100.0       2\n",
       "1500.0       2\n",
       "243.0        2\n",
       "390.0        2\n",
       "156.0        2\n",
       "476.0        2\n",
       "121.0        2\n",
       "391.0        2\n",
       "580.0        2\n",
       "151.0        2\n",
       "194.0        2\n",
       "370.0        2\n",
       "359.0        2\n",
       "187.0        2\n",
       "1000.0       2\n",
       "310.0        2\n",
       "303.0        2\n",
       "171.0        2\n",
       "333.0        2\n",
       "520.0        2\n",
       "204.0        2\n",
       "398.0        2\n",
       "2000.0       2\n",
       "307.0        2\n",
       "196.0        2\n",
       "399.0        2\n",
       "510.0        2\n",
       "469.0        2\n",
       "193.0        2\n",
       "181.0        2\n",
       "224.0        2\n",
       "161.0        2\n",
       "184.0        2\n",
       "208.0        2\n",
       "314.0        2\n",
       "265.0        2\n",
       "182.0        2\n",
       "315.0        2\n",
       "219.0        2\n",
       "248.0        2\n",
       "770.0        2\n",
       "285.0        2\n",
       "174.0        2\n",
       "231.0        2\n",
       "2500.0       2\n",
       "292.0        2\n",
       "316.0        2\n",
       "214.0        2\n",
       "304.0        2\n",
       "188.0        2\n",
       "259.0        2\n",
       "685.0        2\n",
       "197.0        2\n",
       "455.0        2\n",
       "282.0        1\n",
       "328.0        1\n",
       "202.0        1\n",
       "698.0        1\n",
       "474.0        1\n",
       "257.0        1\n",
       "239.0        1\n",
       "468.0        1\n",
       "420.0        1\n",
       "412.0        1\n",
       "1300.0       1\n",
       "376.0        1\n",
       "525.0        1\n",
       "900.0        1\n",
       "176.0        1\n",
       "886.0        1\n",
       "790.0        1\n",
       "980.0        1\n",
       "207.0        1\n",
       "253.0        1\n",
       "540.0        1\n",
       "234.0        1\n",
       "172.0        1\n",
       "395.0        1\n",
       "222.0        1\n",
       "323.0        1\n",
       "351.0        1\n",
       "486.0        1\n",
       "258.0        1\n",
       "1200.0       1\n",
       "288.0        1\n",
       "367.0        1\n",
       "750.0        1\n",
       "425.0        1\n",
       "183.0        1\n",
       "415.0        1\n",
       "496.0        1\n",
       "357.0        1\n",
       "271.0        1\n",
       "306.0        1\n",
       "848.0        1\n",
       "780.0        1\n",
       "973.0        1\n",
       "617.0        1\n",
       "467.0        1\n",
       "252.0        1\n",
       "272.0        1\n",
       "767.0        1\n",
       "319.0        1\n",
       "177.0        1\n",
       "764.0        1\n",
       "191.0        1\n",
       "198.0        1\n",
       "410.0        1\n",
       "317.0        1\n",
       "226.0        1\n",
       "639.0        1\n",
       "630.0        1\n",
       "301.0        1\n",
       "757.0        1\n",
       "322.0        1\n",
       "385.0        1\n",
       "203.0        1\n",
       "672.0        1\n",
       "710.0        1\n",
       "2013.0       1\n",
       "209.0        1\n",
       "388.0        1\n",
       "268.0        1\n",
       "229.0        1\n",
       "281.0        1\n",
       "448.0        1\n",
       "238.0        1\n",
       "369.0        1\n",
       "428.0        1\n",
       "269.0        1\n",
       "276.0        1\n",
       "3300.0       1\n",
       "480.0        1\n",
       "212.0        1\n",
       "293.0        1\n",
       "675.0        1\n",
       "157.0        1\n",
       "273.0        1\n",
       "463.0        1\n",
       "545.0        1\n",
       "588.0        1\n",
       "206.0        1\n",
       "419.0        1\n",
       "426.0        1\n",
       "1125.0       1\n",
       "189.0        1\n",
       "499.0        1\n",
       "205.0        1\n",
       "451.0        1\n",
       "660.0        1\n",
       "355.0        1\n",
       "560.0        1\n",
       "228.0        1\n",
       "353.0        1\n",
       "335.0        1\n",
       "470.0        1\n",
       "242.0        1\n",
       "575.0        1\n",
       "574.0        1\n",
       "612.0        1\n",
       "445.0        1\n",
       "569.0        1\n",
       "932.0        1\n",
       "216.0        1\n",
       "247.0        1\n",
       "1900.0       1\n",
       "602.0        1\n",
       "820.0        1\n",
       "Name: price, dtype: int64"
      ]
     },
     "execution_count": 8,
     "metadata": {},
     "output_type": "execute_result"
    }
   ],
   "source": [
    "df['price'].value_counts()"
   ]
  },
  {
   "cell_type": "code",
   "execution_count": 9,
   "metadata": {},
   "outputs": [
    {
     "data": {
      "text/plain": [
       "count    120975.000000\n",
       "mean         35.363389\n",
       "std          41.022218\n",
       "min           4.000000\n",
       "25%          17.000000\n",
       "50%          25.000000\n",
       "75%          42.000000\n",
       "max        3300.000000\n",
       "Name: price, dtype: float64"
      ]
     },
     "execution_count": 9,
     "metadata": {},
     "output_type": "execute_result"
    }
   ],
   "source": [
    "df['price'].describe()"
   ]
  },
  {
   "cell_type": "code",
   "execution_count": 10,
   "metadata": {},
   "outputs": [
    {
     "data": {
      "text/plain": [
       "25.0"
      ]
     },
     "execution_count": 10,
     "metadata": {},
     "output_type": "execute_result"
    }
   ],
   "source": [
    "df['price'].median()"
   ]
  },
  {
   "cell_type": "code",
   "execution_count": 11,
   "metadata": {},
   "outputs": [
    {
     "data": {
      "text/plain": [
       "0    20.0\n",
       "dtype: float64"
      ]
     },
     "execution_count": 11,
     "metadata": {},
     "output_type": "execute_result"
    }
   ],
   "source": [
    "df['price'].mode()"
   ]
  },
  {
   "cell_type": "markdown",
   "metadata": {},
   "source": [
    "### After viewing the descriptive statistics, I believe that the best course of action for filling the missing values is to use the median."
   ]
  },
  {
   "cell_type": "code",
   "execution_count": 12,
   "metadata": {},
   "outputs": [],
   "source": [
    "df['price'].fillna(df['price'].median(), inplace=True)"
   ]
  },
  {
   "cell_type": "code",
   "execution_count": 13,
   "metadata": {},
   "outputs": [
    {
     "data": {
      "text/plain": [
       "country                  0\n",
       "description              0\n",
       "designation              0\n",
       "points                   0\n",
       "price                    0\n",
       "province                 0\n",
       "region_1                 0\n",
       "region_2                 0\n",
       "taster_name              0\n",
       "taster_twitter_handle    0\n",
       "title                    0\n",
       "variety                  0\n",
       "winery                   0\n",
       "dtype: int64"
      ]
     },
     "execution_count": 13,
     "metadata": {},
     "output_type": "execute_result"
    }
   ],
   "source": [
    "df.isna().sum()"
   ]
  },
  {
   "cell_type": "markdown",
   "metadata": {},
   "source": [
    "### Although neural networks and random forests are strong against outliers, the graph below shows that the data as it currently stands has a very non-normal distribution. Therefore, I will use z-score to remove the outliers because I believe it will improve potential class imbalance and model performance."
   ]
  },
  {
   "cell_type": "code",
   "execution_count": 15,
   "metadata": {},
   "outputs": [
    {
     "data": {
      "text/plain": [
       "<matplotlib.axes._subplots.AxesSubplot at 0x7f9e68fb09b0>"
      ]
     },
     "execution_count": 15,
     "metadata": {},
     "output_type": "execute_result"
    },
    {
     "data": {
      "image/png": "[encoded data removed]",
      "text/plain": [
       "<Figure size 432x288 with 1 Axes>"
      ]
     },
     "metadata": {
      "needs_background": "light"
     },
     "output_type": "display_data"
    }
   ],
   "source": [
    "df['price'].hist(bins='auto')"
   ]
  },
  {
   "cell_type": "code",
   "execution_count": 16,
   "metadata": {},
   "outputs": [
    {
     "data": {
      "image/png": "[encoded data removed]",
      "text/plain": [
       "<Figure size 432x288 with 1 Axes>"
      ]
     },
     "metadata": {
      "needs_background": "light"
     },
     "output_type": "display_data"
    }
   ],
   "source": [
    "import numpy as np\n",
    "from scipy.stats import zscore\n",
    "good_rows = np.abs(zscore(df['price'].values))<=3\n",
    "df[good_rows]['price'].hist(bins='auto')\n",
    "df=df[good_rows]"
   ]
  },
  {
   "cell_type": "markdown",
   "metadata": {},
   "source": [
    "### Also, given the large numbers of different values, I will be binning my data into two bins, with the cutoff point being at 25 dollars. This will also make the classification process more efficient."
   ]
  },
  {
   "cell_type": "code",
   "execution_count": 17,
   "metadata": {},
   "outputs": [
    {
     "data": {
      "image/png": "[encoded data removed]",
      "text/plain": [
       "<Figure size 432x288 with 1 Axes>"
      ]
     },
     "metadata": {
      "needs_background": "light"
     },
     "output_type": "display_data"
    }
   ],
   "source": [
    "cut_labels = [0, 1]\n",
    "cut_bins = [0,25,np.inf]\n",
    "ax = df['price'].hist(bins='auto')\n",
    "[ax.axvline(val) for val in cut_bins]\n",
    "df['price category'] = pd.cut(df['price'], bins=cut_bins, labels=cut_labels)"
   ]
  },
  {
   "cell_type": "code",
   "execution_count": 18,
   "metadata": {},
   "outputs": [
    {
     "data": {
      "text/plain": [
       "0    0.545806\n",
       "1    0.454194\n",
       "Name: price category, dtype: float64"
      ]
     },
     "execution_count": 18,
     "metadata": {},
     "output_type": "execute_result"
    }
   ],
   "source": [
    "df['price category'].value_counts(normalize=True)"
   ]
  },
  {
   "cell_type": "markdown",
   "metadata": {},
   "source": [
    "# Text preprocessing for modeling"
   ]
  },
  {
   "cell_type": "code",
   "execution_count": 19,
   "metadata": {},
   "outputs": [],
   "source": [
    "import numpy as np\n",
    "np.random.seed(0)\n",
    "from nltk import word_tokenize\n",
    "from nltk import FreqDist\n",
    "from nltk.corpus import stopwords\n",
    "import string"
   ]
  },
  {
   "cell_type": "markdown",
   "metadata": {},
   "source": [
    "## This function will create the data in such a way that it can be used during the modeling steps."
   ]
  },
  {
   "cell_type": "code",
   "execution_count": 20,
   "metadata": {},
   "outputs": [],
   "source": [
    "def clean_description(corpus):\n",
    "    \"\"\"This function will be used to clean up df['description'] so that it can be used for modeling and\n",
    "    visualization.\n",
    "    \n",
    "    Parameters:\n",
    "    \n",
    "    corpus - body of text that needs to be cleaned.\"\"\"\n",
    "    \n",
    "    #Creates an extensive stopwords list\n",
    "    stopwords_list = stopwords.words('english')\n",
    "    additional_punc = ['“','”','...','``',\"''\",'’',\"'s\", ' ', \"n't\"]\n",
    "    stopwords_list+=string.punctuation\n",
    "    stopwords_list.extend(additional_punc)\n",
    "    \n",
    "    #Tokenizes the words in the corpus\n",
    "    tokens = word_tokenize(corpus)\n",
    "    \n",
    "    #Uses list comprehension to create the list of clean words\n",
    "    clean_words = [word.lower() for word in tokens if word.lower() not in stopwords_list]\n",
    "    return clean_words"
   ]
  },
  {
   "cell_type": "code",
   "execution_count": 21,
   "metadata": {},
   "outputs": [],
   "source": [
    "df['clean description'] = df['description'].apply(clean_description)"
   ]
  },
  {
   "cell_type": "code",
   "execution_count": 22,
   "metadata": {
    "scrolled": true
   },
   "outputs": [
    {
     "data": {
      "text/plain": [
       "['aromas',\n",
       " 'include',\n",
       " 'tropical',\n",
       " 'fruit',\n",
       " 'broom',\n",
       " 'brimstone',\n",
       " 'dried',\n",
       " 'herb',\n",
       " 'palate',\n",
       " 'overly',\n",
       " 'expressive',\n",
       " 'offering',\n",
       " 'unripened',\n",
       " 'apple',\n",
       " 'citrus',\n",
       " 'dried',\n",
       " 'sage',\n",
       " 'alongside',\n",
       " 'brisk',\n",
       " 'acidity']"
      ]
     },
     "execution_count": 22,
     "metadata": {},
     "output_type": "execute_result"
    }
   ],
   "source": [
    "#Verify that the function was applied correctly\n",
    "df['clean description'][0]"
   ]
  },
  {
   "cell_type": "markdown",
   "metadata": {},
   "source": [
    "# Modeling: Neural Network"
   ]
  },
  {
   "cell_type": "code",
   "execution_count": 23,
   "metadata": {},
   "outputs": [],
   "source": [
    "target = df['price category']"
   ]
  },
  {
   "cell_type": "code",
   "execution_count": 24,
   "metadata": {},
   "outputs": [],
   "source": [
    "total_vocabulary = df['clean description']"
   ]
  },
  {
   "cell_type": "code",
   "execution_count": 25,
   "metadata": {},
   "outputs": [
    {
     "name": "stdout",
     "output_type": "stream",
     "text": [
      "There are 128749 unique tokens in the dataset.\n"
     ]
    }
   ],
   "source": [
    "len(total_vocabulary)\n",
    "print('There are {} unique tokens in the dataset.'.format(len(total_vocabulary)))"
   ]
  },
  {
   "cell_type": "code",
   "execution_count": 26,
   "metadata": {},
   "outputs": [
    {
     "name": "stderr",
     "output_type": "stream",
     "text": [
      "Using TensorFlow backend.\n",
      "/Users/acusiobivona/opt/anaconda3/envs/learn-env/lib/python3.6/site-packages/tensorflow/python/framework/dtypes.py:517: FutureWarning: Passing (type, 1) or '1type' as a synonym of type is deprecated; in a future version of numpy, it will be understood as (type, (1,)) / '(1,)type'.\n",
      "  _np_qint8 = np.dtype([(\"qint8\", np.int8, 1)])\n",
      "/Users/acusiobivona/opt/anaconda3/envs/learn-env/lib/python3.6/site-packages/tensorflow/python/framework/dtypes.py:518: FutureWarning: Passing (type, 1) or '1type' as a synonym of type is deprecated; in a future version of numpy, it will be understood as (type, (1,)) / '(1,)type'.\n",
      "  _np_quint8 = np.dtype([(\"quint8\", np.uint8, 1)])\n",
      "/Users/acusiobivona/opt/anaconda3/envs/learn-env/lib/python3.6/site-packages/tensorflow/python/framework/dtypes.py:519: FutureWarning: Passing (type, 1) or '1type' as a synonym of type is deprecated; in a future version of numpy, it will be understood as (type, (1,)) / '(1,)type'.\n",
      "  _np_qint16 = np.dtype([(\"qint16\", np.int16, 1)])\n",
      "/Users/acusiobivona/opt/anaconda3/envs/learn-env/lib/python3.6/site-packages/tensorflow/python/framework/dtypes.py:520: FutureWarning: Passing (type, 1) or '1type' as a synonym of type is deprecated; in a future version of numpy, it will be understood as (type, (1,)) / '(1,)type'.\n",
      "  _np_quint16 = np.dtype([(\"quint16\", np.uint16, 1)])\n",
      "/Users/acusiobivona/opt/anaconda3/envs/learn-env/lib/python3.6/site-packages/tensorflow/python/framework/dtypes.py:521: FutureWarning: Passing (type, 1) or '1type' as a synonym of type is deprecated; in a future version of numpy, it will be understood as (type, (1,)) / '(1,)type'.\n",
      "  _np_qint32 = np.dtype([(\"qint32\", np.int32, 1)])\n",
      "/Users/acusiobivona/opt/anaconda3/envs/learn-env/lib/python3.6/site-packages/tensorflow/python/framework/dtypes.py:526: FutureWarning: Passing (type, 1) or '1type' as a synonym of type is deprecated; in a future version of numpy, it will be understood as (type, (1,)) / '(1,)type'.\n",
      "  np_resource = np.dtype([(\"resource\", np.ubyte, 1)])\n"
     ]
    }
   ],
   "source": [
    "from keras.preprocessing.sequence import pad_sequences\n",
    "from keras.layers import Input, Dense, LSTM, Embedding\n",
    "from keras.layers import Dropout, Activation, Bidirectional, GlobalMaxPool1D\n",
    "from keras.models import Sequential\n",
    "from keras import initializers, regularizers, constraints, optimizers, layers\n",
    "from keras.preprocessing import text, sequence\n",
    "from keras.utils import to_categorical\n",
    "from sklearn.model_selection import train_test_split"
   ]
  },
  {
   "cell_type": "code",
   "execution_count": 27,
   "metadata": {},
   "outputs": [],
   "source": [
    "y = to_categorical(target).copy()\n",
    "X = total_vocabulary.copy()"
   ]
  },
  {
   "cell_type": "code",
   "execution_count": 28,
   "metadata": {},
   "outputs": [],
   "source": [
    "X_train,X_test,y_train,y_test = train_test_split(X,y,stratify=y)"
   ]
  },
  {
   "cell_type": "code",
   "execution_count": 29,
   "metadata": {},
   "outputs": [],
   "source": [
    "tokenizer = text.Tokenizer(num_words=20000)\n",
    "tokenizer.fit_on_texts(X_train)\n",
    "X_train_seq = tokenizer.texts_to_sequences(X_train)\n",
    "X_tr = sequence.pad_sequences(X_train_seq, maxlen=100)\n",
    "X_test_seq = tokenizer.texts_to_sequences(X_test)\n",
    "X_te = sequence.pad_sequences(X_test_seq, maxlen=100)"
   ]
  },
  {
   "cell_type": "code",
   "execution_count": 30,
   "metadata": {},
   "outputs": [],
   "source": [
    "#Created so that if validation accuracy does not improve after 2 epochs, the neural network will stop running.\n",
    "#This allows for more efficiency and less memory usage.\n",
    "from keras.callbacks import EarlyStopping\n",
    "callback = EarlyStopping(monitor='val_acc', patience=2)"
   ]
  },
  {
   "cell_type": "code",
   "execution_count": 31,
   "metadata": {},
   "outputs": [
    {
     "name": "stdout",
     "output_type": "stream",
     "text": [
      "_________________________________________________________________\n",
      "Layer (type)                 Output Shape              Param #   \n",
      "=================================================================\n",
      "embedding_1 (Embedding)      (None, None, 128)         2560000   \n",
      "_________________________________________________________________\n",
      "lstm_1 (LSTM)                (None, None, 25)          15400     \n",
      "_________________________________________________________________\n",
      "global_max_pooling1d_1 (Glob (None, 25)                0         \n",
      "_________________________________________________________________\n",
      "dropout_1 (Dropout)          (None, 25)                0         \n",
      "_________________________________________________________________\n",
      "dense_1 (Dense)              (None, 50)                1300      \n",
      "_________________________________________________________________\n",
      "dropout_2 (Dropout)          (None, 50)                0         \n",
      "_________________________________________________________________\n",
      "dense_2 (Dense)              (None, 2)                 102       \n",
      "=================================================================\n",
      "Total params: 2,576,802\n",
      "Trainable params: 2,576,802\n",
      "Non-trainable params: 0\n",
      "_________________________________________________________________\n"
     ]
    }
   ],
   "source": [
    "embedding_size = 128\n",
    "model = Sequential()\n",
    "model.add(Embedding(20000, embedding_size)) \n",
    "model.add(LSTM(25, return_sequences=True))\n",
    "model.add(GlobalMaxPool1D())\n",
    "model.add(Dropout(0.5))\n",
    "model.add(Dense(50, activation='relu'))\n",
    "model.add(Dropout(0.5))\n",
    "model.add(Dense(2, activation='sigmoid'))\n",
    "\n",
    "model.compile(loss='categorical_crossentropy', \n",
    "              optimizer='adam', \n",
    "              metrics=['accuracy'])\n",
    "\n",
    "model.summary()"
   ]
  },
  {
   "cell_type": "code",
   "execution_count": 32,
   "metadata": {},
   "outputs": [
    {
     "name": "stdout",
     "output_type": "stream",
     "text": [
      "Train on 72420 samples, validate on 24141 samples\n",
      "Epoch 1/5\n",
      "72420/72420 [==============================] - 46s 642us/step - loss: 0.5756 - acc: 0.6956 - val_loss: 0.4911 - val_acc: 0.7609\n",
      "Epoch 2/5\n",
      "72420/72420 [==============================] - 47s 654us/step - loss: 0.4741 - acc: 0.7845 - val_loss: 0.4921 - val_acc: 0.7585\n",
      "Epoch 3/5\n",
      "72420/72420 [==============================] - 45s 628us/step - loss: 0.4266 - acc: 0.8090 - val_loss: 0.5069 - val_acc: 0.7583\n"
     ]
    }
   ],
   "source": [
    "model_1 = model.fit(X_tr, y_train, epochs=5, batch_size=256, validation_split=0.25, callbacks=[callback])"
   ]
  },
  {
   "cell_type": "code",
   "execution_count": 33,
   "metadata": {},
   "outputs": [
    {
     "data": {
      "text/plain": [
       "array([[0.13794643, 0.97653383],\n",
       "       [0.5085026 , 0.5741696 ],\n",
       "       [0.25746357, 0.8664487 ],\n",
       "       ...,\n",
       "       [0.14047365, 0.9731708 ],\n",
       "       [0.88615453, 0.09761176],\n",
       "       [0.35476184, 0.76339453]], dtype=float32)"
      ]
     },
     "execution_count": 33,
     "metadata": {},
     "output_type": "execute_result"
    }
   ],
   "source": [
    "y_hat_test = model.predict(X_te)\n",
    "y_hat_test"
   ]
  },
  {
   "cell_type": "code",
   "execution_count": 34,
   "metadata": {},
   "outputs": [
    {
     "data": {
      "text/plain": [
       "array([1, 1, 1, ..., 1, 0, 1])"
      ]
     },
     "execution_count": 34,
     "metadata": {},
     "output_type": "execute_result"
    }
   ],
   "source": [
    "#Takes the above step and makes it so that we can see how the neural network predicted the classification of\n",
    "#each value in the test set.\n",
    "y_hat_test = y_hat_test.argmax(axis=1)\n",
    "y_hat_test"
   ]
  },
  {
   "cell_type": "code",
   "execution_count": 35,
   "metadata": {},
   "outputs": [],
   "source": [
    "#Function code borrowed with permission from \n",
    "#https://github.com/jirvingphd/fsds_pt_100719_cohort_notes/blob/master/sect_42_tuning_neural_networks-Full_SG.ipynb\n",
    "import matplotlib.pyplot as plt\n",
    "def plot_confusion_matrix(conf_matrix, classes = None, normalize=True,\n",
    "                          title='Confusion Matrix', cmap=\"Blues\",\n",
    "                          print_raw_matrix=False,\n",
    "                          fig_size=(4,4)):\n",
    "    \"\"\"Check if Normalization Option is Set to True. \n",
    "    If so, normalize the raw confusion matrix before visualizing\n",
    "    #Other code should be equivalent to your previous function.\n",
    "    Note: Taken from bs_ds and modified\n",
    "    - Can pass a tuple of (y_true,y_pred) instead of conf matrix.\n",
    "    \"\"\"\n",
    "    import itertools\n",
    "    import numpy as np\n",
    "    import matplotlib.pyplot as plt\n",
    "    import sklearn.metrics as metrics\n",
    "    \n",
    "    ## make confusion matrix if given tuple of y_true,y_pred\n",
    "    if isinstance(conf_matrix, tuple):\n",
    "        y_true = conf_matrix[0].copy()\n",
    "        y_pred = conf_matrix[1].copy()\n",
    "        \n",
    "        if y_true.ndim>1:\n",
    "            y_true = y_true.argmax(axis=1)\n",
    "        if y_pred.ndim>1:\n",
    "            y_pred = y_pred.argmax(axis=1)\n",
    "            \n",
    "            \n",
    "        cm = metrics.confusion_matrix(y_true,y_pred)\n",
    "    else:\n",
    "        cm = conf_matrix\n",
    "        \n",
    "    ## Generate integer labels for classes\n",
    "    if classes is None:\n",
    "        classes = list(range(len(cm)))  \n",
    "        \n",
    "    ## Normalize data\n",
    "    if normalize:\n",
    "        cm = cm.astype('float') / cm.sum(axis=1)[:, np.newaxis]\n",
    "        fmt='.2f'\n",
    "    else:\n",
    "        fmt= 'd'\n",
    "        \n",
    "        \n",
    "    fontDict = {\n",
    "        'title':{\n",
    "            'fontsize':16,\n",
    "            'fontweight':'semibold',\n",
    "            'ha':'center',\n",
    "            },\n",
    "        'xlabel':{\n",
    "            'fontsize':14,\n",
    "            'fontweight':'normal',\n",
    "            },\n",
    "        'ylabel':{\n",
    "            'fontsize':14,\n",
    "            'fontweight':'normal',\n",
    "            },\n",
    "        'xtick_labels':{\n",
    "            'fontsize':10,\n",
    "            'fontweight':'normal',\n",
    "    #             'rotation':45,\n",
    "            'ha':'right',\n",
    "            },\n",
    "        'ytick_labels':{\n",
    "            'fontsize':10,\n",
    "            'fontweight':'normal',\n",
    "            'rotation':0,\n",
    "            'ha':'right',\n",
    "            },\n",
    "        'data_labels':{\n",
    "            'ha':'center',\n",
    "            'fontweight':'semibold',\n",
    "\n",
    "        }\n",
    "    }\n",
    "\n",
    "    # Create plot\n",
    "    fig,ax = plt.subplots(figsize=fig_size)\n",
    "\n",
    "    plt.imshow(cm, interpolation='nearest', cmap=cmap)\n",
    "    plt.title(title,**fontDict['title'])\n",
    "    plt.colorbar()\n",
    "\n",
    "    tick_marks = classes#np.arange(len(classes))\n",
    "\n",
    "    plt.xticks(tick_marks, classes, **fontDict['xtick_labels'])\n",
    "    plt.yticks(tick_marks, classes,**fontDict['ytick_labels'])\n",
    "\n",
    "    # Determine threshold for b/w text\n",
    "    thresh = cm.max() / 2.\n",
    "\n",
    "    # fig,ax = plt.subplots()\n",
    "    for i, j in itertools.product(range(cm.shape[0]), range(cm.shape[1])):\n",
    "        plt.text(j, i, format(cm[i, j], fmt),\n",
    "                 color='darkgray',**fontDict['data_labels']) #color=\"white\" if cm[i, j] > thresh else \"black\"\n",
    "\n",
    "    plt.tight_layout()\n",
    "    plt.ylabel('True label',**fontDict['ylabel'])\n",
    "    plt.xlabel('Predicted label',**fontDict['xlabel'])\n",
    "\n",
    "    if print_raw_matrix:\n",
    "        print_title = 'Raw Confusion Matrix Counts:'\n",
    "        print('\\n',print_title)\n",
    "        print(conf_matrix)\n",
    "\n",
    "\n",
    "    fig = plt.gcf()\n",
    "    return fig\n",
    "\n",
    "\n",
    "\n",
    "def plot_keras_history(history,figsize_1=(6,4),\n",
    "    figsize_2=(8,6)):\n",
    "    \"\"\"Plots keras history and returns fig\"\"\"\n",
    "    \n",
    "    ## Make a df from history\n",
    "    if isinstance(history,dict)==False:\n",
    "        history=history.history\n",
    "    plot_df = pd.DataFrame(history)\n",
    "    plot_df['Epoch'] = range(1,len(plot_df)+1)\n",
    "    plot_df.set_index('Epoch',inplace=True)\n",
    "    ## Get cols for acc vs loss\n",
    "    acc_cols = list(filter(lambda x: 'acc' in x, plot_df.columns))\n",
    "    loss_cols = list(filter(lambda x: 'loss' in x, plot_df.columns))   \n",
    "    \n",
    "    ## Set figsizes based on number of keys\n",
    "    if len(acc_cols)>1:\n",
    "        figsize=figsize_2\n",
    "    else:\n",
    "        figsize=figsize_1\n",
    "\n",
    "    ## Make figure and axes\n",
    "    fig,ax = plt.subplots(nrows=2,figsize=figsize,sharex=True)\n",
    "    \n",
    "    ## Plot Accuracy cols in plot 1\n",
    "    plot_df[acc_cols].plot(ax=ax[0])\n",
    "    ax[0].set(ylabel='Accuracy')\n",
    "    ax[0].set_title('Training Results')\n",
    "\n",
    "    ## Plot loss cols in plot 2\n",
    "    plot_df[loss_cols].plot(ax=ax[1])\n",
    "    ax[1].set(ylabel='Loss')\n",
    "    ax[1].set_xlabel('Epoch #')\n",
    "\n",
    "\n",
    "#     ## Change xaxis locators \n",
    "#     [a.xaxis.set_major_locator(mpl.ticker.MaxNLocator(len(plot_df),integer=True)) for a in ax]\n",
    "#     [a.set_xlim((1,len(plot_df)+1)) for a in ax]\n",
    "    plt.tight_layout()\n",
    "    \n",
    "    return fig"
   ]
  },
  {
   "cell_type": "code",
   "execution_count": 36,
   "metadata": {},
   "outputs": [],
   "source": [
    "#Function code borrowed with permission from\n",
    "#https://github.com/jirvingphd/fsds_pt_100719_cohort_notes/blob/master/sect_39_NLP_finding_trump_SG.ipynb\n",
    "def evaluate_model(y_true, y_pred,history=None):\n",
    "    \"\"\"Evaluates neural network using sklearn metrics\"\"\"\n",
    "    from sklearn import metrics\n",
    "    if y_true.ndim>1:\n",
    "        y_true = y_true.argmax(axis=1)\n",
    "    if y_pred.ndim>1:\n",
    "        y_pred = y_pred.argmax(axis=1)   \n",
    "#     try:    \n",
    "    if history is not None:\n",
    "        plot_keras_history(history)\n",
    "        plt.show()\n",
    "#     except:\n",
    "#         pass\n",
    "    \n",
    "    num_dashes=20\n",
    "    print('\\n')\n",
    "    print('---'*num_dashes)\n",
    "    print('\\tCLASSIFICATION REPORT:')\n",
    "    print('---'*num_dashes)\n",
    "    try:\n",
    "        print(metrics.classification_report(y_true,y_pred))\n",
    "        \n",
    "        fig = plot_confusion_matrix((y_true,y_pred))\n",
    "        plt.show()\n",
    "    except Exception as e:\n",
    "        print(f\"[!] Error during model evaluation:\\n\\t{e}\")\n",
    "\n"
   ]
  },
  {
   "cell_type": "code",
   "execution_count": 37,
   "metadata": {},
   "outputs": [
    {
     "data": {
      "image/png": "[encoded data removed]",
      "text/plain": [
       "<Figure size 576x432 with 2 Axes>"
      ]
     },
     "metadata": {
      "needs_background": "light"
     },
     "output_type": "display_data"
    },
    {
     "name": "stdout",
     "output_type": "stream",
     "text": [
      "\n",
      "\n",
      "------------------------------------------------------------\n",
      "\tCLASSIFICATION REPORT:\n",
      "------------------------------------------------------------\n",
      "              precision    recall  f1-score   support\n",
      "\n",
      "           0       0.80      0.73      0.76     17568\n",
      "           1       0.71      0.79      0.75     14620\n",
      "\n",
      "    accuracy                           0.76     32188\n",
      "   macro avg       0.76      0.76      0.75     32188\n",
      "weighted avg       0.76      0.76      0.76     32188\n",
      "\n"
     ]
    },
    {
     "data": {
      "image/png": "[encoded data removed]",
      "text/plain": [
       "<Figure size 288x288 with 2 Axes>"
      ]
     },
     "metadata": {
      "needs_background": "light"
     },
     "output_type": "display_data"
    }
   ],
   "source": [
    "evaluate_model(y_test, y_hat_test, model_1)"
   ]
  },
  {
   "cell_type": "markdown",
   "metadata": {},
   "source": [
    "## Evaluation: The neural network was able to correctly classify the cheap wine bottles (0) 73% percent of the time and correctly identified the expensive wine bottles (1) 79% of the time. We also can see from the keras history graphs that the point of convergence did not occur too soon, despite the neural network only needing 3 epochs to process everything. Overall, these are good results that can perhaps be further improved with continued tuning."
   ]
  },
  {
   "cell_type": "markdown",
   "metadata": {},
   "source": [
    "# Modeling: Random Forest"
   ]
  },
  {
   "cell_type": "markdown",
   "metadata": {},
   "source": [
    "### The question may be asked, why is a random forest being used when a neural network has already been performed for the purpose of prediction? The reason is neural networks, with all their power, are very challenging in providing meaningful insights into what their results mean, aside from a classification report. I'm running the random forest to get insights into both which words were used and the frequency of those words when making predictions. "
   ]
  },
  {
   "cell_type": "code",
   "execution_count": 38,
   "metadata": {},
   "outputs": [],
   "source": [
    "y = df['price category'].copy()\n",
    "X = df['description'].copy()"
   ]
  },
  {
   "cell_type": "code",
   "execution_count": 39,
   "metadata": {},
   "outputs": [],
   "source": [
    "X_train,X_test,y_train,y_test = train_test_split(X,y,stratify=y)"
   ]
  },
  {
   "cell_type": "markdown",
   "metadata": {},
   "source": [
    "### Confirm that data in train and test group is divided similarly"
   ]
  },
  {
   "cell_type": "code",
   "execution_count": 40,
   "metadata": {},
   "outputs": [
    {
     "data": {
      "text/plain": [
       "0    0.54581\n",
       "1    0.45419\n",
       "Name: price category, dtype: float64"
      ]
     },
     "execution_count": 40,
     "metadata": {},
     "output_type": "execute_result"
    }
   ],
   "source": [
    "y_train.value_counts(normalize=True)"
   ]
  },
  {
   "cell_type": "code",
   "execution_count": 41,
   "metadata": {},
   "outputs": [
    {
     "data": {
      "text/plain": [
       "0    0.545793\n",
       "1    0.454207\n",
       "Name: price category, dtype: float64"
      ]
     },
     "execution_count": 41,
     "metadata": {},
     "output_type": "execute_result"
    }
   ],
   "source": [
    "y_test.value_counts(normalize=True)"
   ]
  },
  {
   "cell_type": "markdown",
   "metadata": {},
   "source": [
    "### The text data must be vectorized so that it can be usable data in this machine learning process."
   ]
  },
  {
   "cell_type": "code",
   "execution_count": 42,
   "metadata": {},
   "outputs": [],
   "source": [
    "from sklearn.feature_extraction.text import TfidfVectorizer\n",
    "stopwords_list = stopwords.words('english')\n",
    "additional_punc = ['“','”','...','``',\"''\",'’',\"'s\"]\n",
    "stopwords_list+=string.punctuation\n",
    "stopwords_list.extend(additional_punc)\n",
    "vectorizer = TfidfVectorizer(stop_words=stopwords_list)"
   ]
  },
  {
   "cell_type": "code",
   "execution_count": 43,
   "metadata": {},
   "outputs": [],
   "source": [
    "tf_idf_train = vectorizer.fit_transform(X_train)\n",
    "tf_idf_test = vectorizer.transform(X_test)"
   ]
  },
  {
   "cell_type": "markdown",
   "metadata": {},
   "source": [
    "### I used GridSearch in order to find the optimal hyperparameters for my random forest. The results of the gridsearch are displayed in line 15-20 in the cell below."
   ]
  },
  {
   "cell_type": "code",
   "execution_count": 44,
   "metadata": {},
   "outputs": [],
   "source": [
    "#from sklearn.model_selection import GridSearchCV\n",
    "#params  = {'criterion':['gini','entropy'],\n",
    "      #    'max_depth':[3,5,10,50,100,None],\n",
    "       #   'class_weight':['balanced',None],\n",
    "        #   'bootstrap':[True ,False],\n",
    "         # 'min_samples_leaf':[1,2,3,4],\n",
    "          #}\n",
    "#rf_clf = RandomForestClassifier()\n",
    "#grid = GridSearchCV(rf_clf,params,return_train_score=False,\n",
    "                   # scoring='recall_weighted',n_jobs=-1)\n",
    "#grid.fit(tf_idf_train,y_train)\n",
    "#print(grid.best_score_)\n",
    "#grid.best_params_\n",
    "\n",
    "#Gridsearch Results\n",
    "#{'bootstrap': False,\n",
    " #'class_weight': None,\n",
    " #'criterion': 'entropy',\n",
    " #'max_depth': None,\n",
    " #'min_samples_leaf': 1}"
   ]
  },
  {
   "cell_type": "code",
   "execution_count": 45,
   "metadata": {},
   "outputs": [],
   "source": [
    "from sklearn.ensemble import RandomForestClassifier\n",
    "rf_clf = RandomForestClassifier(criterion='entropy', bootstrap=False)\n",
    "rf_clf.fit(tf_idf_train, y_train)\n",
    "y_hat_train = rf_clf.predict(tf_idf_train)\n",
    "y_hat_test = rf_clf.predict(tf_idf_test)"
   ]
  },
  {
   "cell_type": "code",
   "execution_count": 46,
   "metadata": {},
   "outputs": [],
   "source": [
    "#Function code borrowed with permsission from\n",
    "#https://github.com/jirvingphd/fsds_pt_100719_cohort_notes/blob/master/sect_39_NLP_finding_trump_SG.ipynb\n",
    "from sklearn import metrics\n",
    "\n",
    "def evaluate_model(y_test,y_hat_test,X_test,clf=None,\n",
    "                  scoring=metrics.recall_score,verbose=False):\n",
    "\n",
    "    print(metrics.classification_report(y_test,y_hat_test))\n",
    "    metrics.plot_confusion_matrix(clf,X_test,y_test,normalize='true',\n",
    "                                 cmap='Blues')\n",
    "    plt.show()\n",
    "    if verbose:\n",
    "        print(\"MODEL PARAMETERS:\")\n",
    "        print(pd.Series(rf.get_params()))\n",
    "        "
   ]
  },
  {
   "cell_type": "code",
   "execution_count": 47,
   "metadata": {},
   "outputs": [
    {
     "name": "stdout",
     "output_type": "stream",
     "text": [
      "              precision    recall  f1-score   support\n",
      "\n",
      "           0       0.77      0.84      0.80     17568\n",
      "           1       0.78      0.70      0.74     14620\n",
      "\n",
      "    accuracy                           0.78     32188\n",
      "   macro avg       0.78      0.77      0.77     32188\n",
      "weighted avg       0.78      0.78      0.77     32188\n",
      "\n"
     ]
    },
    {
     "data": {
      "image/png": "[encoded data removed]",
      "text/plain": [
       "<Figure size 432x288 with 2 Axes>"
      ]
     },
     "metadata": {
      "needs_background": "light"
     },
     "output_type": "display_data"
    }
   ],
   "source": [
    "evaluate_model(y_test, y_hat_test, tf_idf_test, rf_clf)"
   ]
  },
  {
   "cell_type": "markdown",
   "metadata": {},
   "source": [
    "## Discover most important overall words"
   ]
  },
  {
   "cell_type": "code",
   "execution_count": 48,
   "metadata": {},
   "outputs": [
    {
     "data": {
      "text/plain": [
       "['000', '01', '02', '03', '030', '035', '04', '04s', '05', '06']"
      ]
     },
     "execution_count": 48,
     "metadata": {},
     "output_type": "execute_result"
    }
   ],
   "source": [
    "vectorizer.get_feature_names()[:10]"
   ]
  },
  {
   "cell_type": "code",
   "execution_count": 49,
   "metadata": {},
   "outputs": [
    {
     "data": {
      "image/png": "[encoded data removed]",
      "text/plain": [
       "<Figure size 720x720 with 1 Axes>"
      ]
     },
     "metadata": {
      "needs_background": "light"
     },
     "output_type": "display_data"
    }
   ],
   "source": [
    "with plt.style.context('seaborn-talk'):\n",
    "\n",
    "    importance = pd.Series(rf_clf.feature_importances_,vectorizer.get_feature_names())\n",
    "    importance.sort_values().tail(20).plot(kind='barh',figsize=(10,10))"
   ]
  },
  {
   "cell_type": "markdown",
   "metadata": {},
   "source": [
    "## Evaluation: In terms of classifying, we got an interesting result in that the random forest was better at predicting the classification of the cheaper bottles of wine rather than the more expensive ones. But, the real value of this model is in the graph above, where we can see which words were the most important when trying to classify each wine bottle. An important note, however, is that the graph above does not specify which words belong to which class."
   ]
  },
  {
   "cell_type": "markdown",
   "metadata": {},
   "source": [
    "# Create frequency distributions for whole dataset and for each class"
   ]
  },
  {
   "cell_type": "markdown",
   "metadata": {},
   "source": [
    "### Whole dataset"
   ]
  },
  {
   "cell_type": "code",
   "execution_count": 50,
   "metadata": {
    "scrolled": true
   },
   "outputs": [
    {
     "data": {
      "text/plain": [
       "[('wine', 77008),\n",
       " ('flavors', 59555),\n",
       " ('fruit', 43391),\n",
       " ('aromas', 39242),\n",
       " ('palate', 37094),\n",
       " ('acidity', 31404),\n",
       " ('tannins', 27567),\n",
       " ('drink', 27364),\n",
       " ('cherry', 26978),\n",
       " ('ripe', 26578),\n",
       " ('black', 24934),\n",
       " ('finish', 21879),\n",
       " ('red', 18555),\n",
       " ('notes', 18256),\n",
       " ('spice', 17922),\n",
       " ('rich', 16896),\n",
       " ('nose', 16801),\n",
       " ('fresh', 16593),\n",
       " ('oak', 15655),\n",
       " ('berry', 15282)]"
      ]
     },
     "execution_count": 50,
     "metadata": {},
     "output_type": "execute_result"
    }
   ],
   "source": [
    "corpus = df['description']\n",
    "\n",
    "','.join(corpus)[:100]\n",
    "\n",
    "tokens = word_tokenize(','.join(corpus))\n",
    "\n",
    "stopwords_list = stopwords.words('english')\n",
    "\n",
    "additional_punc = ['“','”','...','``',\"''\",'’',\"'s\"]\n",
    "\n",
    "stopwords_list+=string.punctuation\n",
    "stopwords_list.extend(additional_punc)\n",
    "\n",
    "stopped_tokens = [word.lower() for word in tokens if word.lower() not in stopwords_list]\n",
    "\n",
    "freq = FreqDist(stopped_tokens)\n",
    "freq.most_common(20)"
   ]
  },
  {
   "cell_type": "markdown",
   "metadata": {},
   "source": [
    "### Cheap Wine"
   ]
  },
  {
   "cell_type": "code",
   "execution_count": 51,
   "metadata": {
    "scrolled": false
   },
   "outputs": [
    {
     "data": {
      "text/html": [
       "<div>\n",
       "<style scoped>\n",
       "    .dataframe tbody tr th:only-of-type {\n",
       "        vertical-align: middle;\n",
       "    }\n",
       "\n",
       "    .dataframe tbody tr th {\n",
       "        vertical-align: top;\n",
       "    }\n",
       "\n",
       "    .dataframe thead th {\n",
       "        text-align: right;\n",
       "    }\n",
       "</style>\n",
       "<table border=\"1\" class=\"dataframe\">\n",
       "  <thead>\n",
       "    <tr style=\"text-align: right;\">\n",
       "      <th></th>\n",
       "      <th>country</th>\n",
       "      <th>description</th>\n",
       "      <th>designation</th>\n",
       "      <th>points</th>\n",
       "      <th>price</th>\n",
       "      <th>province</th>\n",
       "      <th>region_1</th>\n",
       "      <th>region_2</th>\n",
       "      <th>taster_name</th>\n",
       "      <th>taster_twitter_handle</th>\n",
       "      <th>title</th>\n",
       "      <th>variety</th>\n",
       "      <th>winery</th>\n",
       "      <th>price category</th>\n",
       "      <th>clean description</th>\n",
       "    </tr>\n",
       "  </thead>\n",
       "  <tbody>\n",
       "    <tr>\n",
       "      <td>0</td>\n",
       "      <td>Italy</td>\n",
       "      <td>Aromas include tropical fruit, broom, brimston...</td>\n",
       "      <td>Vulkà Bianco</td>\n",
       "      <td>87</td>\n",
       "      <td>25.0</td>\n",
       "      <td>Sicily &amp; Sardinia</td>\n",
       "      <td>Etna</td>\n",
       "      <td>N/A</td>\n",
       "      <td>Kerin O’Keefe</td>\n",
       "      <td>@kerinokeefe</td>\n",
       "      <td>Nicosia 2013 Vulkà Bianco  (Etna)</td>\n",
       "      <td>White Blend</td>\n",
       "      <td>Nicosia</td>\n",
       "      <td>0</td>\n",
       "      <td>[aromas, include, tropical, fruit, broom, brim...</td>\n",
       "    </tr>\n",
       "    <tr>\n",
       "      <td>1</td>\n",
       "      <td>Portugal</td>\n",
       "      <td>This is ripe and fruity, a wine that is smooth...</td>\n",
       "      <td>Avidagos</td>\n",
       "      <td>87</td>\n",
       "      <td>15.0</td>\n",
       "      <td>Douro</td>\n",
       "      <td>N/A</td>\n",
       "      <td>N/A</td>\n",
       "      <td>Roger Voss</td>\n",
       "      <td>@vossroger</td>\n",
       "      <td>Quinta dos Avidagos 2011 Avidagos Red (Douro)</td>\n",
       "      <td>Portuguese Red</td>\n",
       "      <td>Quinta dos Avidagos</td>\n",
       "      <td>0</td>\n",
       "      <td>[ripe, fruity, wine, smooth, still, structured...</td>\n",
       "    </tr>\n",
       "    <tr>\n",
       "      <td>2</td>\n",
       "      <td>US</td>\n",
       "      <td>Tart and snappy, the flavors of lime flesh and...</td>\n",
       "      <td>N/A</td>\n",
       "      <td>87</td>\n",
       "      <td>14.0</td>\n",
       "      <td>Oregon</td>\n",
       "      <td>Willamette Valley</td>\n",
       "      <td>Willamette Valley</td>\n",
       "      <td>Paul Gregutt</td>\n",
       "      <td>@paulgwine</td>\n",
       "      <td>Rainstorm 2013 Pinot Gris (Willamette Valley)</td>\n",
       "      <td>Pinot Gris</td>\n",
       "      <td>Rainstorm</td>\n",
       "      <td>0</td>\n",
       "      <td>[tart, snappy, flavors, lime, flesh, rind, dom...</td>\n",
       "    </tr>\n",
       "    <tr>\n",
       "      <td>3</td>\n",
       "      <td>US</td>\n",
       "      <td>Pineapple rind, lemon pith and orange blossom ...</td>\n",
       "      <td>Reserve Late Harvest</td>\n",
       "      <td>87</td>\n",
       "      <td>13.0</td>\n",
       "      <td>Michigan</td>\n",
       "      <td>Lake Michigan Shore</td>\n",
       "      <td>N/A</td>\n",
       "      <td>Alexander Peartree</td>\n",
       "      <td>N/A</td>\n",
       "      <td>St. Julian 2013 Reserve Late Harvest Riesling ...</td>\n",
       "      <td>Riesling</td>\n",
       "      <td>St. Julian</td>\n",
       "      <td>0</td>\n",
       "      <td>[pineapple, rind, lemon, pith, orange, blossom...</td>\n",
       "    </tr>\n",
       "    <tr>\n",
       "      <td>5</td>\n",
       "      <td>Spain</td>\n",
       "      <td>Blackberry and raspberry aromas show a typical...</td>\n",
       "      <td>Ars In Vitro</td>\n",
       "      <td>87</td>\n",
       "      <td>15.0</td>\n",
       "      <td>Northern Spain</td>\n",
       "      <td>Navarra</td>\n",
       "      <td>N/A</td>\n",
       "      <td>Michael Schachner</td>\n",
       "      <td>@wineschach</td>\n",
       "      <td>Tandem 2011 Ars In Vitro Tempranillo-Merlot (N...</td>\n",
       "      <td>Tempranillo-Merlot</td>\n",
       "      <td>Tandem</td>\n",
       "      <td>0</td>\n",
       "      <td>[blackberry, raspberry, aromas, show, typical,...</td>\n",
       "    </tr>\n",
       "    <tr>\n",
       "      <td>...</td>\n",
       "      <td>...</td>\n",
       "      <td>...</td>\n",
       "      <td>...</td>\n",
       "      <td>...</td>\n",
       "      <td>...</td>\n",
       "      <td>...</td>\n",
       "      <td>...</td>\n",
       "      <td>...</td>\n",
       "      <td>...</td>\n",
       "      <td>...</td>\n",
       "      <td>...</td>\n",
       "      <td>...</td>\n",
       "      <td>...</td>\n",
       "      <td>...</td>\n",
       "      <td>...</td>\n",
       "    </tr>\n",
       "    <tr>\n",
       "      <td>129956</td>\n",
       "      <td>New Zealand</td>\n",
       "      <td>The blend is 44% Merlot, 33% Cabernet Sauvigno...</td>\n",
       "      <td>Gimblett Gravels Merlot-Cabernet Sauvignon-Malbec</td>\n",
       "      <td>90</td>\n",
       "      <td>19.0</td>\n",
       "      <td>Hawke's Bay</td>\n",
       "      <td>N/A</td>\n",
       "      <td>N/A</td>\n",
       "      <td>Joe Czerwinski</td>\n",
       "      <td>@JoeCz</td>\n",
       "      <td>Esk Valley 2011 Gimblett Gravels Merlot-Cabern...</td>\n",
       "      <td>Bordeaux-style Red Blend</td>\n",
       "      <td>Esk Valley</td>\n",
       "      <td>0</td>\n",
       "      <td>[blend, 44, merlot, 33, cabernet, sauvignon, 2...</td>\n",
       "    </tr>\n",
       "    <tr>\n",
       "      <td>129957</td>\n",
       "      <td>Spain</td>\n",
       "      <td>Lightly baked berry aromas vie for attention w...</td>\n",
       "      <td>Crianza</td>\n",
       "      <td>90</td>\n",
       "      <td>17.0</td>\n",
       "      <td>Northern Spain</td>\n",
       "      <td>Rioja</td>\n",
       "      <td>N/A</td>\n",
       "      <td>Michael Schachner</td>\n",
       "      <td>@wineschach</td>\n",
       "      <td>Viñedos Real Rubio 2010 Crianza  (Rioja)</td>\n",
       "      <td>Tempranillo Blend</td>\n",
       "      <td>Viñedos Real Rubio</td>\n",
       "      <td>0</td>\n",
       "      <td>[lightly, baked, berry, aromas, vie, attention...</td>\n",
       "    </tr>\n",
       "    <tr>\n",
       "      <td>129963</td>\n",
       "      <td>Israel</td>\n",
       "      <td>A bouquet of black cherry, tart cranberry and ...</td>\n",
       "      <td>Oak Aged</td>\n",
       "      <td>90</td>\n",
       "      <td>20.0</td>\n",
       "      <td>Galilee</td>\n",
       "      <td>N/A</td>\n",
       "      <td>N/A</td>\n",
       "      <td>Mike DeSimone</td>\n",
       "      <td>@worldwineguys</td>\n",
       "      <td>Dalton 2012 Oak Aged Cabernet Sauvignon (Galilee)</td>\n",
       "      <td>Cabernet Sauvignon</td>\n",
       "      <td>Dalton</td>\n",
       "      <td>0</td>\n",
       "      <td>[bouquet, black, cherry, tart, cranberry, clov...</td>\n",
       "    </tr>\n",
       "    <tr>\n",
       "      <td>129964</td>\n",
       "      <td>France</td>\n",
       "      <td>Initially quite muted, this wine slowly develo...</td>\n",
       "      <td>Domaine Saint-Rémy Herrenweg</td>\n",
       "      <td>90</td>\n",
       "      <td>25.0</td>\n",
       "      <td>Alsace</td>\n",
       "      <td>Alsace</td>\n",
       "      <td>N/A</td>\n",
       "      <td>Roger Voss</td>\n",
       "      <td>@vossroger</td>\n",
       "      <td>Domaine Ehrhart 2013 Domaine Saint-Rémy Herren...</td>\n",
       "      <td>Gewürztraminer</td>\n",
       "      <td>Domaine Ehrhart</td>\n",
       "      <td>0</td>\n",
       "      <td>[initially, quite, muted, wine, slowly, develo...</td>\n",
       "    </tr>\n",
       "    <tr>\n",
       "      <td>129970</td>\n",
       "      <td>France</td>\n",
       "      <td>Big, rich and off-dry, this is powered by inte...</td>\n",
       "      <td>Lieu-dit Harth Cuvée Caroline</td>\n",
       "      <td>90</td>\n",
       "      <td>21.0</td>\n",
       "      <td>Alsace</td>\n",
       "      <td>Alsace</td>\n",
       "      <td>N/A</td>\n",
       "      <td>Roger Voss</td>\n",
       "      <td>@vossroger</td>\n",
       "      <td>Domaine Schoffit 2012 Lieu-dit Harth Cuvée Car...</td>\n",
       "      <td>Gewürztraminer</td>\n",
       "      <td>Domaine Schoffit</td>\n",
       "      <td>0</td>\n",
       "      <td>[big, rich, off-dry, powered, intense, spicine...</td>\n",
       "    </tr>\n",
       "  </tbody>\n",
       "</table>\n",
       "<p>70272 rows × 15 columns</p>\n",
       "</div>"
      ],
      "text/plain": [
       "            country                                        description  \\\n",
       "0             Italy  Aromas include tropical fruit, broom, brimston...   \n",
       "1          Portugal  This is ripe and fruity, a wine that is smooth...   \n",
       "2                US  Tart and snappy, the flavors of lime flesh and...   \n",
       "3                US  Pineapple rind, lemon pith and orange blossom ...   \n",
       "5             Spain  Blackberry and raspberry aromas show a typical...   \n",
       "...             ...                                                ...   \n",
       "129956  New Zealand  The blend is 44% Merlot, 33% Cabernet Sauvigno...   \n",
       "129957        Spain  Lightly baked berry aromas vie for attention w...   \n",
       "129963       Israel  A bouquet of black cherry, tart cranberry and ...   \n",
       "129964       France  Initially quite muted, this wine slowly develo...   \n",
       "129970       France  Big, rich and off-dry, this is powered by inte...   \n",
       "\n",
       "                                              designation  points  price  \\\n",
       "0                                            Vulkà Bianco      87   25.0   \n",
       "1                                                Avidagos      87   15.0   \n",
       "2                                                     N/A      87   14.0   \n",
       "3                                    Reserve Late Harvest      87   13.0   \n",
       "5                                            Ars In Vitro      87   15.0   \n",
       "...                                                   ...     ...    ...   \n",
       "129956  Gimblett Gravels Merlot-Cabernet Sauvignon-Malbec      90   19.0   \n",
       "129957                                            Crianza      90   17.0   \n",
       "129963                                           Oak Aged      90   20.0   \n",
       "129964                       Domaine Saint-Rémy Herrenweg      90   25.0   \n",
       "129970                      Lieu-dit Harth Cuvée Caroline      90   21.0   \n",
       "\n",
       "                 province             region_1           region_2  \\\n",
       "0       Sicily & Sardinia                 Etna                N/A   \n",
       "1                   Douro                  N/A                N/A   \n",
       "2                  Oregon    Willamette Valley  Willamette Valley   \n",
       "3                Michigan  Lake Michigan Shore                N/A   \n",
       "5          Northern Spain              Navarra                N/A   \n",
       "...                   ...                  ...                ...   \n",
       "129956        Hawke's Bay                  N/A                N/A   \n",
       "129957     Northern Spain                Rioja                N/A   \n",
       "129963            Galilee                  N/A                N/A   \n",
       "129964             Alsace               Alsace                N/A   \n",
       "129970             Alsace               Alsace                N/A   \n",
       "\n",
       "               taster_name taster_twitter_handle  \\\n",
       "0            Kerin O’Keefe          @kerinokeefe   \n",
       "1               Roger Voss            @vossroger   \n",
       "2             Paul Gregutt           @paulgwine    \n",
       "3       Alexander Peartree                   N/A   \n",
       "5        Michael Schachner           @wineschach   \n",
       "...                    ...                   ...   \n",
       "129956      Joe Czerwinski                @JoeCz   \n",
       "129957   Michael Schachner           @wineschach   \n",
       "129963       Mike DeSimone        @worldwineguys   \n",
       "129964          Roger Voss            @vossroger   \n",
       "129970          Roger Voss            @vossroger   \n",
       "\n",
       "                                                    title  \\\n",
       "0                       Nicosia 2013 Vulkà Bianco  (Etna)   \n",
       "1           Quinta dos Avidagos 2011 Avidagos Red (Douro)   \n",
       "2           Rainstorm 2013 Pinot Gris (Willamette Valley)   \n",
       "3       St. Julian 2013 Reserve Late Harvest Riesling ...   \n",
       "5       Tandem 2011 Ars In Vitro Tempranillo-Merlot (N...   \n",
       "...                                                   ...   \n",
       "129956  Esk Valley 2011 Gimblett Gravels Merlot-Cabern...   \n",
       "129957           Viñedos Real Rubio 2010 Crianza  (Rioja)   \n",
       "129963  Dalton 2012 Oak Aged Cabernet Sauvignon (Galilee)   \n",
       "129964  Domaine Ehrhart 2013 Domaine Saint-Rémy Herren...   \n",
       "129970  Domaine Schoffit 2012 Lieu-dit Harth Cuvée Car...   \n",
       "\n",
       "                         variety               winery price category  \\\n",
       "0                    White Blend              Nicosia              0   \n",
       "1                 Portuguese Red  Quinta dos Avidagos              0   \n",
       "2                     Pinot Gris            Rainstorm              0   \n",
       "3                       Riesling           St. Julian              0   \n",
       "5             Tempranillo-Merlot               Tandem              0   \n",
       "...                          ...                  ...            ...   \n",
       "129956  Bordeaux-style Red Blend           Esk Valley              0   \n",
       "129957         Tempranillo Blend   Viñedos Real Rubio              0   \n",
       "129963        Cabernet Sauvignon               Dalton              0   \n",
       "129964            Gewürztraminer      Domaine Ehrhart              0   \n",
       "129970            Gewürztraminer     Domaine Schoffit              0   \n",
       "\n",
       "                                        clean description  \n",
       "0       [aromas, include, tropical, fruit, broom, brim...  \n",
       "1       [ripe, fruity, wine, smooth, still, structured...  \n",
       "2       [tart, snappy, flavors, lime, flesh, rind, dom...  \n",
       "3       [pineapple, rind, lemon, pith, orange, blossom...  \n",
       "5       [blackberry, raspberry, aromas, show, typical,...  \n",
       "...                                                   ...  \n",
       "129956  [blend, 44, merlot, 33, cabernet, sauvignon, 2...  \n",
       "129957  [lightly, baked, berry, aromas, vie, attention...  \n",
       "129963  [bouquet, black, cherry, tart, cranberry, clov...  \n",
       "129964  [initially, quite, muted, wine, slowly, develo...  \n",
       "129970  [big, rich, off-dry, powered, intense, spicine...  \n",
       "\n",
       "[70272 rows x 15 columns]"
      ]
     },
     "execution_count": 51,
     "metadata": {},
     "output_type": "execute_result"
    }
   ],
   "source": [
    "#Separate data according to class\n",
    "df2 = df.loc[df['price category'] == 0]\n",
    "df2"
   ]
  },
  {
   "cell_type": "code",
   "execution_count": 52,
   "metadata": {},
   "outputs": [
    {
     "data": {
      "text/plain": [
       "[('wine', 41676),\n",
       " ('flavors', 33579),\n",
       " ('aromas', 22594),\n",
       " ('fruit', 22319),\n",
       " ('palate', 19588),\n",
       " ('acidity', 18595),\n",
       " ('ripe', 14005),\n",
       " ('drink', 13616),\n",
       " ('finish', 12581),\n",
       " ('tannins', 12177),\n",
       " ('cherry', 11441),\n",
       " ('fresh', 11314),\n",
       " ('black', 9730),\n",
       " ('notes', 9663),\n",
       " ('red', 9650),\n",
       " ('berry', 8993),\n",
       " ('crisp', 8810),\n",
       " ('dry', 8807),\n",
       " ('nose', 8793),\n",
       " ('spice', 8692)]"
      ]
     },
     "execution_count": 52,
     "metadata": {},
     "output_type": "execute_result"
    }
   ],
   "source": [
    "corpus = df2['description']\n",
    "','.join(corpus)\n",
    "tokens = word_tokenize(','.join(corpus))\n",
    "stopwords_list = stopwords.words('english')\n",
    "additional_punc = ['“','”','...','``',\"''\",'’',\"'s\"]\n",
    "stopwords_list+=string.punctuation\n",
    "stopwords_list.extend(additional_punc)\n",
    "stopped_tokens_0 = [word.lower() for word in tokens if word.lower() not in stopwords_list]\n",
    "freq = FreqDist(stopped_tokens_0)\n",
    "freq.most_common(20)"
   ]
  },
  {
   "cell_type": "markdown",
   "metadata": {},
   "source": [
    "### Expensive wine"
   ]
  },
  {
   "cell_type": "code",
   "execution_count": 53,
   "metadata": {
    "scrolled": false
   },
   "outputs": [
    {
     "data": {
      "text/html": [
       "<div>\n",
       "<style scoped>\n",
       "    .dataframe tbody tr th:only-of-type {\n",
       "        vertical-align: middle;\n",
       "    }\n",
       "\n",
       "    .dataframe tbody tr th {\n",
       "        vertical-align: top;\n",
       "    }\n",
       "\n",
       "    .dataframe thead th {\n",
       "        text-align: right;\n",
       "    }\n",
       "</style>\n",
       "<table border=\"1\" class=\"dataframe\">\n",
       "  <thead>\n",
       "    <tr style=\"text-align: right;\">\n",
       "      <th></th>\n",
       "      <th>country</th>\n",
       "      <th>description</th>\n",
       "      <th>designation</th>\n",
       "      <th>points</th>\n",
       "      <th>price</th>\n",
       "      <th>province</th>\n",
       "      <th>region_1</th>\n",
       "      <th>region_2</th>\n",
       "      <th>taster_name</th>\n",
       "      <th>taster_twitter_handle</th>\n",
       "      <th>title</th>\n",
       "      <th>variety</th>\n",
       "      <th>winery</th>\n",
       "      <th>price category</th>\n",
       "      <th>clean description</th>\n",
       "    </tr>\n",
       "  </thead>\n",
       "  <tbody>\n",
       "    <tr>\n",
       "      <td>4</td>\n",
       "      <td>US</td>\n",
       "      <td>Much like the regular bottling from 2012, this...</td>\n",
       "      <td>Vintner's Reserve Wild Child Block</td>\n",
       "      <td>87</td>\n",
       "      <td>65.0</td>\n",
       "      <td>Oregon</td>\n",
       "      <td>Willamette Valley</td>\n",
       "      <td>Willamette Valley</td>\n",
       "      <td>Paul Gregutt</td>\n",
       "      <td>@paulgwine</td>\n",
       "      <td>Sweet Cheeks 2012 Vintner's Reserve Wild Child...</td>\n",
       "      <td>Pinot Noir</td>\n",
       "      <td>Sweet Cheeks</td>\n",
       "      <td>1</td>\n",
       "      <td>[much, like, regular, bottling, 2012, comes, a...</td>\n",
       "    </tr>\n",
       "    <tr>\n",
       "      <td>9</td>\n",
       "      <td>France</td>\n",
       "      <td>This has great depth of flavor with its fresh ...</td>\n",
       "      <td>Les Natures</td>\n",
       "      <td>87</td>\n",
       "      <td>27.0</td>\n",
       "      <td>Alsace</td>\n",
       "      <td>Alsace</td>\n",
       "      <td>N/A</td>\n",
       "      <td>Roger Voss</td>\n",
       "      <td>@vossroger</td>\n",
       "      <td>Jean-Baptiste Adam 2012 Les Natures Pinot Gris...</td>\n",
       "      <td>Pinot Gris</td>\n",
       "      <td>Jean-Baptiste Adam</td>\n",
       "      <td>1</td>\n",
       "      <td>[great, depth, flavor, fresh, apple, pear, fru...</td>\n",
       "    </tr>\n",
       "    <tr>\n",
       "      <td>11</td>\n",
       "      <td>France</td>\n",
       "      <td>This is a dry wine, very spicy, with a tight, ...</td>\n",
       "      <td>N/A</td>\n",
       "      <td>87</td>\n",
       "      <td>30.0</td>\n",
       "      <td>Alsace</td>\n",
       "      <td>Alsace</td>\n",
       "      <td>N/A</td>\n",
       "      <td>Roger Voss</td>\n",
       "      <td>@vossroger</td>\n",
       "      <td>Leon Beyer 2012 Gewurztraminer (Alsace)</td>\n",
       "      <td>Gewürztraminer</td>\n",
       "      <td>Leon Beyer</td>\n",
       "      <td>1</td>\n",
       "      <td>[dry, wine, spicy, tight, taut, texture, stron...</td>\n",
       "    </tr>\n",
       "    <tr>\n",
       "      <td>12</td>\n",
       "      <td>US</td>\n",
       "      <td>Slightly reduced, this wine offers a chalky, t...</td>\n",
       "      <td>N/A</td>\n",
       "      <td>87</td>\n",
       "      <td>34.0</td>\n",
       "      <td>California</td>\n",
       "      <td>Alexander Valley</td>\n",
       "      <td>Sonoma</td>\n",
       "      <td>Virginie Boone</td>\n",
       "      <td>@vboone</td>\n",
       "      <td>Louis M. Martini 2012 Cabernet Sauvignon (Alex...</td>\n",
       "      <td>Cabernet Sauvignon</td>\n",
       "      <td>Louis M. Martini</td>\n",
       "      <td>1</td>\n",
       "      <td>[slightly, reduced, wine, offers, chalky, tann...</td>\n",
       "    </tr>\n",
       "    <tr>\n",
       "      <td>16</td>\n",
       "      <td>Argentina</td>\n",
       "      <td>Baked plum, molasses, balsamic vinegar and che...</td>\n",
       "      <td>Felix</td>\n",
       "      <td>87</td>\n",
       "      <td>30.0</td>\n",
       "      <td>Other</td>\n",
       "      <td>Cafayate</td>\n",
       "      <td>N/A</td>\n",
       "      <td>Michael Schachner</td>\n",
       "      <td>@wineschach</td>\n",
       "      <td>Felix Lavaque 2010 Felix Malbec (Cafayate)</td>\n",
       "      <td>Malbec</td>\n",
       "      <td>Felix Lavaque</td>\n",
       "      <td>1</td>\n",
       "      <td>[baked, plum, molasses, balsamic, vinegar, che...</td>\n",
       "    </tr>\n",
       "    <tr>\n",
       "      <td>...</td>\n",
       "      <td>...</td>\n",
       "      <td>...</td>\n",
       "      <td>...</td>\n",
       "      <td>...</td>\n",
       "      <td>...</td>\n",
       "      <td>...</td>\n",
       "      <td>...</td>\n",
       "      <td>...</td>\n",
       "      <td>...</td>\n",
       "      <td>...</td>\n",
       "      <td>...</td>\n",
       "      <td>...</td>\n",
       "      <td>...</td>\n",
       "      <td>...</td>\n",
       "      <td>...</td>\n",
       "    </tr>\n",
       "    <tr>\n",
       "      <td>129965</td>\n",
       "      <td>France</td>\n",
       "      <td>While it's rich, this beautiful dry wine also ...</td>\n",
       "      <td>Seppi Landmann Vallée Noble</td>\n",
       "      <td>90</td>\n",
       "      <td>28.0</td>\n",
       "      <td>Alsace</td>\n",
       "      <td>Alsace</td>\n",
       "      <td>N/A</td>\n",
       "      <td>Roger Voss</td>\n",
       "      <td>@vossroger</td>\n",
       "      <td>Domaine Rieflé-Landmann 2013 Seppi Landmann Va...</td>\n",
       "      <td>Pinot Gris</td>\n",
       "      <td>Domaine Rieflé-Landmann</td>\n",
       "      <td>1</td>\n",
       "      <td>[rich, beautiful, dry, wine, also, offers, con...</td>\n",
       "    </tr>\n",
       "    <tr>\n",
       "      <td>129966</td>\n",
       "      <td>Germany</td>\n",
       "      <td>Notes of honeysuckle and cantaloupe sweeten th...</td>\n",
       "      <td>Brauneberger Juffer-Sonnenuhr Spätlese</td>\n",
       "      <td>90</td>\n",
       "      <td>28.0</td>\n",
       "      <td>Mosel</td>\n",
       "      <td>N/A</td>\n",
       "      <td>N/A</td>\n",
       "      <td>Anna Lee C. Iijima</td>\n",
       "      <td>N/A</td>\n",
       "      <td>Dr. H. Thanisch (Erben Müller-Burggraef) 2013 ...</td>\n",
       "      <td>Riesling</td>\n",
       "      <td>Dr. H. Thanisch (Erben Müller-Burggraef)</td>\n",
       "      <td>1</td>\n",
       "      <td>[notes, honeysuckle, cantaloupe, sweeten, deli...</td>\n",
       "    </tr>\n",
       "    <tr>\n",
       "      <td>129967</td>\n",
       "      <td>US</td>\n",
       "      <td>Citation is given as much as a decade of bottl...</td>\n",
       "      <td>N/A</td>\n",
       "      <td>90</td>\n",
       "      <td>75.0</td>\n",
       "      <td>Oregon</td>\n",
       "      <td>Oregon</td>\n",
       "      <td>Oregon Other</td>\n",
       "      <td>Paul Gregutt</td>\n",
       "      <td>@paulgwine</td>\n",
       "      <td>Citation 2004 Pinot Noir (Oregon)</td>\n",
       "      <td>Pinot Noir</td>\n",
       "      <td>Citation</td>\n",
       "      <td>1</td>\n",
       "      <td>[citation, given, much, decade, bottle, age, p...</td>\n",
       "    </tr>\n",
       "    <tr>\n",
       "      <td>129968</td>\n",
       "      <td>France</td>\n",
       "      <td>Well-drained gravel soil gives this wine its c...</td>\n",
       "      <td>Kritt</td>\n",
       "      <td>90</td>\n",
       "      <td>30.0</td>\n",
       "      <td>Alsace</td>\n",
       "      <td>Alsace</td>\n",
       "      <td>N/A</td>\n",
       "      <td>Roger Voss</td>\n",
       "      <td>@vossroger</td>\n",
       "      <td>Domaine Gresser 2013 Kritt Gewurztraminer (Als...</td>\n",
       "      <td>Gewürztraminer</td>\n",
       "      <td>Domaine Gresser</td>\n",
       "      <td>1</td>\n",
       "      <td>[well-drained, gravel, soil, gives, wine, cris...</td>\n",
       "    </tr>\n",
       "    <tr>\n",
       "      <td>129969</td>\n",
       "      <td>France</td>\n",
       "      <td>A dry style of Pinot Gris, this is crisp with ...</td>\n",
       "      <td>N/A</td>\n",
       "      <td>90</td>\n",
       "      <td>32.0</td>\n",
       "      <td>Alsace</td>\n",
       "      <td>Alsace</td>\n",
       "      <td>N/A</td>\n",
       "      <td>Roger Voss</td>\n",
       "      <td>@vossroger</td>\n",
       "      <td>Domaine Marcel Deiss 2012 Pinot Gris (Alsace)</td>\n",
       "      <td>Pinot Gris</td>\n",
       "      <td>Domaine Marcel Deiss</td>\n",
       "      <td>1</td>\n",
       "      <td>[dry, style, pinot, gris, crisp, acidity, also...</td>\n",
       "    </tr>\n",
       "  </tbody>\n",
       "</table>\n",
       "<p>58477 rows × 15 columns</p>\n",
       "</div>"
      ],
      "text/plain": [
       "          country                                        description  \\\n",
       "4              US  Much like the regular bottling from 2012, this...   \n",
       "9          France  This has great depth of flavor with its fresh ...   \n",
       "11         France  This is a dry wine, very spicy, with a tight, ...   \n",
       "12             US  Slightly reduced, this wine offers a chalky, t...   \n",
       "16      Argentina  Baked plum, molasses, balsamic vinegar and che...   \n",
       "...           ...                                                ...   \n",
       "129965     France  While it's rich, this beautiful dry wine also ...   \n",
       "129966    Germany  Notes of honeysuckle and cantaloupe sweeten th...   \n",
       "129967         US  Citation is given as much as a decade of bottl...   \n",
       "129968     France  Well-drained gravel soil gives this wine its c...   \n",
       "129969     France  A dry style of Pinot Gris, this is crisp with ...   \n",
       "\n",
       "                                   designation  points  price    province  \\\n",
       "4           Vintner's Reserve Wild Child Block      87   65.0      Oregon   \n",
       "9                                  Les Natures      87   27.0      Alsace   \n",
       "11                                         N/A      87   30.0      Alsace   \n",
       "12                                         N/A      87   34.0  California   \n",
       "16                                       Felix      87   30.0       Other   \n",
       "...                                        ...     ...    ...         ...   \n",
       "129965             Seppi Landmann Vallée Noble      90   28.0      Alsace   \n",
       "129966  Brauneberger Juffer-Sonnenuhr Spätlese      90   28.0       Mosel   \n",
       "129967                                     N/A      90   75.0      Oregon   \n",
       "129968                                   Kritt      90   30.0      Alsace   \n",
       "129969                                     N/A      90   32.0      Alsace   \n",
       "\n",
       "                 region_1           region_2         taster_name  \\\n",
       "4       Willamette Valley  Willamette Valley        Paul Gregutt   \n",
       "9                  Alsace                N/A          Roger Voss   \n",
       "11                 Alsace                N/A          Roger Voss   \n",
       "12       Alexander Valley             Sonoma      Virginie Boone   \n",
       "16               Cafayate                N/A   Michael Schachner   \n",
       "...                   ...                ...                 ...   \n",
       "129965             Alsace                N/A          Roger Voss   \n",
       "129966                N/A                N/A  Anna Lee C. Iijima   \n",
       "129967             Oregon       Oregon Other        Paul Gregutt   \n",
       "129968             Alsace                N/A          Roger Voss   \n",
       "129969             Alsace                N/A          Roger Voss   \n",
       "\n",
       "       taster_twitter_handle  \\\n",
       "4                @paulgwine    \n",
       "9                 @vossroger   \n",
       "11                @vossroger   \n",
       "12                   @vboone   \n",
       "16               @wineschach   \n",
       "...                      ...   \n",
       "129965            @vossroger   \n",
       "129966                   N/A   \n",
       "129967           @paulgwine    \n",
       "129968            @vossroger   \n",
       "129969            @vossroger   \n",
       "\n",
       "                                                    title             variety  \\\n",
       "4       Sweet Cheeks 2012 Vintner's Reserve Wild Child...          Pinot Noir   \n",
       "9       Jean-Baptiste Adam 2012 Les Natures Pinot Gris...          Pinot Gris   \n",
       "11                Leon Beyer 2012 Gewurztraminer (Alsace)      Gewürztraminer   \n",
       "12      Louis M. Martini 2012 Cabernet Sauvignon (Alex...  Cabernet Sauvignon   \n",
       "16             Felix Lavaque 2010 Felix Malbec (Cafayate)              Malbec   \n",
       "...                                                   ...                 ...   \n",
       "129965  Domaine Rieflé-Landmann 2013 Seppi Landmann Va...          Pinot Gris   \n",
       "129966  Dr. H. Thanisch (Erben Müller-Burggraef) 2013 ...            Riesling   \n",
       "129967                  Citation 2004 Pinot Noir (Oregon)          Pinot Noir   \n",
       "129968  Domaine Gresser 2013 Kritt Gewurztraminer (Als...      Gewürztraminer   \n",
       "129969      Domaine Marcel Deiss 2012 Pinot Gris (Alsace)          Pinot Gris   \n",
       "\n",
       "                                          winery price category  \\\n",
       "4                                   Sweet Cheeks              1   \n",
       "9                             Jean-Baptiste Adam              1   \n",
       "11                                    Leon Beyer              1   \n",
       "12                              Louis M. Martini              1   \n",
       "16                                 Felix Lavaque              1   \n",
       "...                                          ...            ...   \n",
       "129965                   Domaine Rieflé-Landmann              1   \n",
       "129966  Dr. H. Thanisch (Erben Müller-Burggraef)              1   \n",
       "129967                                  Citation              1   \n",
       "129968                           Domaine Gresser              1   \n",
       "129969                      Domaine Marcel Deiss              1   \n",
       "\n",
       "                                        clean description  \n",
       "4       [much, like, regular, bottling, 2012, comes, a...  \n",
       "9       [great, depth, flavor, fresh, apple, pear, fru...  \n",
       "11      [dry, wine, spicy, tight, taut, texture, stron...  \n",
       "12      [slightly, reduced, wine, offers, chalky, tann...  \n",
       "16      [baked, plum, molasses, balsamic, vinegar, che...  \n",
       "...                                                   ...  \n",
       "129965  [rich, beautiful, dry, wine, also, offers, con...  \n",
       "129966  [notes, honeysuckle, cantaloupe, sweeten, deli...  \n",
       "129967  [citation, given, much, decade, bottle, age, p...  \n",
       "129968  [well-drained, gravel, soil, gives, wine, cris...  \n",
       "129969  [dry, style, pinot, gris, crisp, acidity, also...  \n",
       "\n",
       "[58477 rows x 15 columns]"
      ]
     },
     "execution_count": 53,
     "metadata": {},
     "output_type": "execute_result"
    }
   ],
   "source": [
    "df3 = df.loc[df['price category'] == 1]\n",
    "df3"
   ]
  },
  {
   "cell_type": "code",
   "execution_count": 54,
   "metadata": {},
   "outputs": [
    {
     "data": {
      "text/plain": [
       "[('wine', 35332),\n",
       " ('flavors', 25976),\n",
       " ('fruit', 21072),\n",
       " ('palate', 17506),\n",
       " ('aromas', 16648),\n",
       " ('cherry', 15537),\n",
       " ('tannins', 15390),\n",
       " ('black', 15204),\n",
       " ('drink', 13748),\n",
       " ('acidity', 12809),\n",
       " ('ripe', 12573),\n",
       " ('oak', 9818),\n",
       " ('rich', 9394),\n",
       " ('finish', 9298),\n",
       " ('spice', 9230),\n",
       " ('red', 8905),\n",
       " ('notes', 8593),\n",
       " ('nose', 8008),\n",
       " ('blackberry', 7334),\n",
       " ('cabernet', 6860)]"
      ]
     },
     "execution_count": 54,
     "metadata": {},
     "output_type": "execute_result"
    }
   ],
   "source": [
    "corpus = df3['description']\n",
    "','.join(corpus)\n",
    "tokens = word_tokenize(','.join(corpus))\n",
    "stopped_tokens_1 = [word.lower() for word in tokens if word.lower() not in stopwords_list]\n",
    "freq = FreqDist(stopped_tokens_1)\n",
    "freq.most_common(20)"
   ]
  },
  {
   "cell_type": "markdown",
   "metadata": {},
   "source": [
    "### I created two functions that will generate wordclouds and bigrams that can be used to make for the whole dataset and for each classification."
   ]
  },
  {
   "cell_type": "code",
   "execution_count": 84,
   "metadata": {},
   "outputs": [],
   "source": [
    "from wordcloud import WordCloud\n",
    "def create_wordcloud(tokens):\n",
    "    \"\"\"Parameters:\n",
    "    \n",
    "    tokens - Some form of tokenized text data\n",
    "    \n",
    "    max_words - Maximum number of words desired\"\"\"\n",
    "    \n",
    "    wordcloud = WordCloud(stopwords='stopwords_list', collocations=False, max_words=30)\n",
    "    wordcloud.generate(','.join(tokens))\n",
    "    plt.figure(figsize = (12, 12), facecolor = None) \n",
    "    plt.imshow(wordcloud) \n",
    "    plt.axis('off')"
   ]
  },
  {
   "cell_type": "code",
   "execution_count": 85,
   "metadata": {},
   "outputs": [
    {
     "data": {
      "image/png": "[encoded data removed]",
      "text/plain": [
       "<Figure size 864x864 with 1 Axes>"
      ]
     },
     "metadata": {
      "needs_background": "light"
     },
     "output_type": "display_data"
    }
   ],
   "source": [
    "create_wordcloud(stopped_tokens)"
   ]
  },
  {
   "cell_type": "code",
   "execution_count": 86,
   "metadata": {},
   "outputs": [
    {
     "data": {
      "image/png": "[encoded data removed]",
      "text/plain": [
       "<Figure size 864x864 with 1 Axes>"
      ]
     },
     "metadata": {
      "needs_background": "light"
     },
     "output_type": "display_data"
    }
   ],
   "source": [
    "create_wordcloud(stopped_tokens_0)"
   ]
  },
  {
   "cell_type": "code",
   "execution_count": 87,
   "metadata": {},
   "outputs": [
    {
     "data": {
      "image/png": "[encoded data removed]",
      "text/plain": [
       "<Figure size 864x864 with 1 Axes>"
      ]
     },
     "metadata": {
      "needs_background": "light"
     },
     "output_type": "display_data"
    }
   ],
   "source": [
    "create_wordcloud(stopped_tokens_1,)"
   ]
  },
  {
   "cell_type": "code",
   "execution_count": 64,
   "metadata": {},
   "outputs": [],
   "source": [
    "import nltk\n",
    "def create_bigram(tokens):\n",
    "    bigram_measures = nltk.collocations.BigramAssocMeasures()\n",
    "    word_finder = nltk.BigramCollocationFinder.from_words(tokens)\n",
    "\n",
    "    words_scored = word_finder.score_ngrams(bigram_measures.raw_freq)\n",
    "    top_words = pd.DataFrame.from_records(words_scored,columns=['Words','Frequency']).head(20)\n",
    "    return top_words"
   ]
  },
  {
   "cell_type": "code",
   "execution_count": 65,
   "metadata": {},
   "outputs": [
    {
     "data": {
      "text/html": [
       "<div>\n",
       "<style scoped>\n",
       "    .dataframe tbody tr th:only-of-type {\n",
       "        vertical-align: middle;\n",
       "    }\n",
       "\n",
       "    .dataframe tbody tr th {\n",
       "        vertical-align: top;\n",
       "    }\n",
       "\n",
       "    .dataframe thead th {\n",
       "        text-align: right;\n",
       "    }\n",
       "</style>\n",
       "<table border=\"1\" class=\"dataframe\">\n",
       "  <thead>\n",
       "    <tr style=\"text-align: right;\">\n",
       "      <th></th>\n",
       "      <th>Words</th>\n",
       "      <th>Frequency</th>\n",
       "    </tr>\n",
       "  </thead>\n",
       "  <tbody>\n",
       "    <tr>\n",
       "      <td>0</td>\n",
       "      <td>(black, cherry)</td>\n",
       "      <td>0.002267</td>\n",
       "    </tr>\n",
       "    <tr>\n",
       "      <td>1</td>\n",
       "      <td>(drink, now.)</td>\n",
       "      <td>0.001740</td>\n",
       "    </tr>\n",
       "    <tr>\n",
       "      <td>2</td>\n",
       "      <td>(fruit, flavors)</td>\n",
       "      <td>0.001700</td>\n",
       "    </tr>\n",
       "    <tr>\n",
       "      <td>3</td>\n",
       "      <td>(cabernet, sauvignon)</td>\n",
       "      <td>0.001509</td>\n",
       "    </tr>\n",
       "    <tr>\n",
       "      <td>4</td>\n",
       "      <td>(palate, offers)</td>\n",
       "      <td>0.001305</td>\n",
       "    </tr>\n",
       "    <tr>\n",
       "      <td>5</td>\n",
       "      <td>(pinot, noir)</td>\n",
       "      <td>0.000939</td>\n",
       "    </tr>\n",
       "    <tr>\n",
       "      <td>6</td>\n",
       "      <td>(black, pepper)</td>\n",
       "      <td>0.000810</td>\n",
       "    </tr>\n",
       "    <tr>\n",
       "      <td>7</td>\n",
       "      <td>(white, pepper)</td>\n",
       "      <td>0.000756</td>\n",
       "    </tr>\n",
       "    <tr>\n",
       "      <td>8</td>\n",
       "      <td>(black, currant)</td>\n",
       "      <td>0.000746</td>\n",
       "    </tr>\n",
       "    <tr>\n",
       "      <td>9</td>\n",
       "      <td>(finish, drink)</td>\n",
       "      <td>0.000715</td>\n",
       "    </tr>\n",
       "    <tr>\n",
       "      <td>10</td>\n",
       "      <td>(black, fruit)</td>\n",
       "      <td>0.000714</td>\n",
       "    </tr>\n",
       "    <tr>\n",
       "      <td>11</td>\n",
       "      <td>(cabernet, franc)</td>\n",
       "      <td>0.000714</td>\n",
       "    </tr>\n",
       "    <tr>\n",
       "      <td>12</td>\n",
       "      <td>(nose, palate)</td>\n",
       "      <td>0.000696</td>\n",
       "    </tr>\n",
       "    <tr>\n",
       "      <td>13</td>\n",
       "      <td>(ready, drink)</td>\n",
       "      <td>0.000692</td>\n",
       "    </tr>\n",
       "    <tr>\n",
       "      <td>14</td>\n",
       "      <td>(red, cherry)</td>\n",
       "      <td>0.000679</td>\n",
       "    </tr>\n",
       "    <tr>\n",
       "      <td>15</td>\n",
       "      <td>(red, berry)</td>\n",
       "      <td>0.000668</td>\n",
       "    </tr>\n",
       "    <tr>\n",
       "      <td>16</td>\n",
       "      <td>(firm, tannins)</td>\n",
       "      <td>0.000660</td>\n",
       "    </tr>\n",
       "    <tr>\n",
       "      <td>17</td>\n",
       "      <td>(palate, delivers)</td>\n",
       "      <td>0.000632</td>\n",
       "    </tr>\n",
       "    <tr>\n",
       "      <td>18</td>\n",
       "      <td>(black, fruits)</td>\n",
       "      <td>0.000627</td>\n",
       "    </tr>\n",
       "    <tr>\n",
       "      <td>19</td>\n",
       "      <td>(green, apple)</td>\n",
       "      <td>0.000624</td>\n",
       "    </tr>\n",
       "  </tbody>\n",
       "</table>\n",
       "</div>"
      ],
      "text/plain": [
       "                    Words  Frequency\n",
       "0         (black, cherry)   0.002267\n",
       "1           (drink, now.)   0.001740\n",
       "2        (fruit, flavors)   0.001700\n",
       "3   (cabernet, sauvignon)   0.001509\n",
       "4        (palate, offers)   0.001305\n",
       "5           (pinot, noir)   0.000939\n",
       "6         (black, pepper)   0.000810\n",
       "7         (white, pepper)   0.000756\n",
       "8        (black, currant)   0.000746\n",
       "9         (finish, drink)   0.000715\n",
       "10         (black, fruit)   0.000714\n",
       "11      (cabernet, franc)   0.000714\n",
       "12         (nose, palate)   0.000696\n",
       "13         (ready, drink)   0.000692\n",
       "14          (red, cherry)   0.000679\n",
       "15           (red, berry)   0.000668\n",
       "16        (firm, tannins)   0.000660\n",
       "17     (palate, delivers)   0.000632\n",
       "18        (black, fruits)   0.000627\n",
       "19         (green, apple)   0.000624"
      ]
     },
     "execution_count": 65,
     "metadata": {},
     "output_type": "execute_result"
    }
   ],
   "source": [
    "create_bigram(stopped_tokens)"
   ]
  },
  {
   "cell_type": "code",
   "execution_count": 66,
   "metadata": {},
   "outputs": [
    {
     "data": {
      "text/html": [
       "<div>\n",
       "<style scoped>\n",
       "    .dataframe tbody tr th:only-of-type {\n",
       "        vertical-align: middle;\n",
       "    }\n",
       "\n",
       "    .dataframe tbody tr th {\n",
       "        vertical-align: top;\n",
       "    }\n",
       "\n",
       "    .dataframe thead th {\n",
       "        text-align: right;\n",
       "    }\n",
       "</style>\n",
       "<table border=\"1\" class=\"dataframe\">\n",
       "  <thead>\n",
       "    <tr style=\"text-align: right;\">\n",
       "      <th></th>\n",
       "      <th>Words</th>\n",
       "      <th>Frequency</th>\n",
       "    </tr>\n",
       "  </thead>\n",
       "  <tbody>\n",
       "    <tr>\n",
       "      <td>0</td>\n",
       "      <td>(drink, now.)</td>\n",
       "      <td>0.002405</td>\n",
       "    </tr>\n",
       "    <tr>\n",
       "      <td>1</td>\n",
       "      <td>(fruit, flavors)</td>\n",
       "      <td>0.001817</td>\n",
       "    </tr>\n",
       "    <tr>\n",
       "      <td>2</td>\n",
       "      <td>(black, cherry)</td>\n",
       "      <td>0.001671</td>\n",
       "    </tr>\n",
       "    <tr>\n",
       "      <td>3</td>\n",
       "      <td>(palate, offers)</td>\n",
       "      <td>0.001295</td>\n",
       "    </tr>\n",
       "    <tr>\n",
       "      <td>4</td>\n",
       "      <td>(cabernet, sauvignon)</td>\n",
       "      <td>0.000988</td>\n",
       "    </tr>\n",
       "    <tr>\n",
       "      <td>5</td>\n",
       "      <td>(fruity, wine)</td>\n",
       "      <td>0.000939</td>\n",
       "    </tr>\n",
       "    <tr>\n",
       "      <td>6</td>\n",
       "      <td>(sauvignon, blanc)</td>\n",
       "      <td>0.000902</td>\n",
       "    </tr>\n",
       "    <tr>\n",
       "      <td>7</td>\n",
       "      <td>(ready, drink)</td>\n",
       "      <td>0.000899</td>\n",
       "    </tr>\n",
       "    <tr>\n",
       "      <td>8</td>\n",
       "      <td>(green, apple)</td>\n",
       "      <td>0.000895</td>\n",
       "    </tr>\n",
       "    <tr>\n",
       "      <td>9</td>\n",
       "      <td>(ready, drink.)</td>\n",
       "      <td>0.000847</td>\n",
       "    </tr>\n",
       "    <tr>\n",
       "      <td>10</td>\n",
       "      <td>(stone, fruit)</td>\n",
       "      <td>0.000796</td>\n",
       "    </tr>\n",
       "    <tr>\n",
       "      <td>11</td>\n",
       "      <td>(red, berry)</td>\n",
       "      <td>0.000788</td>\n",
       "    </tr>\n",
       "    <tr>\n",
       "      <td>12</td>\n",
       "      <td>(berry, fruits)</td>\n",
       "      <td>0.000786</td>\n",
       "    </tr>\n",
       "    <tr>\n",
       "      <td>13</td>\n",
       "      <td>(flavors, finish)</td>\n",
       "      <td>0.000785</td>\n",
       "    </tr>\n",
       "    <tr>\n",
       "      <td>14</td>\n",
       "      <td>(crisp, acidity)</td>\n",
       "      <td>0.000753</td>\n",
       "    </tr>\n",
       "    <tr>\n",
       "      <td>15</td>\n",
       "      <td>(nose, palate)</td>\n",
       "      <td>0.000744</td>\n",
       "    </tr>\n",
       "    <tr>\n",
       "      <td>16</td>\n",
       "      <td>(berry, flavors)</td>\n",
       "      <td>0.000740</td>\n",
       "    </tr>\n",
       "    <tr>\n",
       "      <td>17</td>\n",
       "      <td>(tropical, fruit)</td>\n",
       "      <td>0.000736</td>\n",
       "    </tr>\n",
       "    <tr>\n",
       "      <td>18</td>\n",
       "      <td>(finish, drink)</td>\n",
       "      <td>0.000723</td>\n",
       "    </tr>\n",
       "    <tr>\n",
       "      <td>19</td>\n",
       "      <td>(black, fruits)</td>\n",
       "      <td>0.000704</td>\n",
       "    </tr>\n",
       "  </tbody>\n",
       "</table>\n",
       "</div>"
      ],
      "text/plain": [
       "                    Words  Frequency\n",
       "0           (drink, now.)   0.002405\n",
       "1        (fruit, flavors)   0.001817\n",
       "2         (black, cherry)   0.001671\n",
       "3        (palate, offers)   0.001295\n",
       "4   (cabernet, sauvignon)   0.000988\n",
       "5          (fruity, wine)   0.000939\n",
       "6      (sauvignon, blanc)   0.000902\n",
       "7          (ready, drink)   0.000899\n",
       "8          (green, apple)   0.000895\n",
       "9         (ready, drink.)   0.000847\n",
       "10         (stone, fruit)   0.000796\n",
       "11           (red, berry)   0.000788\n",
       "12        (berry, fruits)   0.000786\n",
       "13      (flavors, finish)   0.000785\n",
       "14       (crisp, acidity)   0.000753\n",
       "15         (nose, palate)   0.000744\n",
       "16       (berry, flavors)   0.000740\n",
       "17      (tropical, fruit)   0.000736\n",
       "18        (finish, drink)   0.000723\n",
       "19        (black, fruits)   0.000704"
      ]
     },
     "execution_count": 66,
     "metadata": {},
     "output_type": "execute_result"
    }
   ],
   "source": [
    "create_bigram(stopped_tokens_0)"
   ]
  },
  {
   "cell_type": "code",
   "execution_count": 67,
   "metadata": {},
   "outputs": [
    {
     "data": {
      "text/html": [
       "<div>\n",
       "<style scoped>\n",
       "    .dataframe tbody tr th:only-of-type {\n",
       "        vertical-align: middle;\n",
       "    }\n",
       "\n",
       "    .dataframe tbody tr th {\n",
       "        vertical-align: top;\n",
       "    }\n",
       "\n",
       "    .dataframe thead th {\n",
       "        text-align: right;\n",
       "    }\n",
       "</style>\n",
       "<table border=\"1\" class=\"dataframe\">\n",
       "  <thead>\n",
       "    <tr style=\"text-align: right;\">\n",
       "      <th></th>\n",
       "      <th>Words</th>\n",
       "      <th>Frequency</th>\n",
       "    </tr>\n",
       "  </thead>\n",
       "  <tbody>\n",
       "    <tr>\n",
       "      <td>0</td>\n",
       "      <td>(black, cherry)</td>\n",
       "      <td>0.002873</td>\n",
       "    </tr>\n",
       "    <tr>\n",
       "      <td>1</td>\n",
       "      <td>(cabernet, sauvignon)</td>\n",
       "      <td>0.002039</td>\n",
       "    </tr>\n",
       "    <tr>\n",
       "      <td>2</td>\n",
       "      <td>(fruit, flavors)</td>\n",
       "      <td>0.001581</td>\n",
       "    </tr>\n",
       "    <tr>\n",
       "      <td>3</td>\n",
       "      <td>(palate, offers)</td>\n",
       "      <td>0.001315</td>\n",
       "    </tr>\n",
       "    <tr>\n",
       "      <td>4</td>\n",
       "      <td>(pinot, noir)</td>\n",
       "      <td>0.001206</td>\n",
       "    </tr>\n",
       "    <tr>\n",
       "      <td>5</td>\n",
       "      <td>(black, pepper)</td>\n",
       "      <td>0.001152</td>\n",
       "    </tr>\n",
       "    <tr>\n",
       "      <td>6</td>\n",
       "      <td>(drink, now.)</td>\n",
       "      <td>0.001064</td>\n",
       "    </tr>\n",
       "    <tr>\n",
       "      <td>7</td>\n",
       "      <td>(cabernet, franc)</td>\n",
       "      <td>0.001029</td>\n",
       "    </tr>\n",
       "    <tr>\n",
       "      <td>8</td>\n",
       "      <td>(petit, verdot)</td>\n",
       "      <td>0.000862</td>\n",
       "    </tr>\n",
       "    <tr>\n",
       "      <td>9</td>\n",
       "      <td>(white, pepper)</td>\n",
       "      <td>0.000837</td>\n",
       "    </tr>\n",
       "    <tr>\n",
       "      <td>10</td>\n",
       "      <td>(black, currant)</td>\n",
       "      <td>0.000816</td>\n",
       "    </tr>\n",
       "    <tr>\n",
       "      <td>11</td>\n",
       "      <td>(black, fruit)</td>\n",
       "      <td>0.000806</td>\n",
       "    </tr>\n",
       "    <tr>\n",
       "      <td>12</td>\n",
       "      <td>(french, oak)</td>\n",
       "      <td>0.000766</td>\n",
       "    </tr>\n",
       "    <tr>\n",
       "      <td>13</td>\n",
       "      <td>(palate, delivers)</td>\n",
       "      <td>0.000766</td>\n",
       "    </tr>\n",
       "    <tr>\n",
       "      <td>14</td>\n",
       "      <td>(red, cherry)</td>\n",
       "      <td>0.000752</td>\n",
       "    </tr>\n",
       "    <tr>\n",
       "      <td>15</td>\n",
       "      <td>(firm, tannins)</td>\n",
       "      <td>0.000724</td>\n",
       "    </tr>\n",
       "    <tr>\n",
       "      <td>16</td>\n",
       "      <td>(cherry, fruit)</td>\n",
       "      <td>0.000719</td>\n",
       "    </tr>\n",
       "    <tr>\n",
       "      <td>17</td>\n",
       "      <td>(dark, chocolate)</td>\n",
       "      <td>0.000709</td>\n",
       "    </tr>\n",
       "    <tr>\n",
       "      <td>18</td>\n",
       "      <td>(finish, drink)</td>\n",
       "      <td>0.000706</td>\n",
       "    </tr>\n",
       "    <tr>\n",
       "      <td>19</td>\n",
       "      <td>(nose, palate)</td>\n",
       "      <td>0.000647</td>\n",
       "    </tr>\n",
       "  </tbody>\n",
       "</table>\n",
       "</div>"
      ],
      "text/plain": [
       "                    Words  Frequency\n",
       "0         (black, cherry)   0.002873\n",
       "1   (cabernet, sauvignon)   0.002039\n",
       "2        (fruit, flavors)   0.001581\n",
       "3        (palate, offers)   0.001315\n",
       "4           (pinot, noir)   0.001206\n",
       "5         (black, pepper)   0.001152\n",
       "6           (drink, now.)   0.001064\n",
       "7       (cabernet, franc)   0.001029\n",
       "8         (petit, verdot)   0.000862\n",
       "9         (white, pepper)   0.000837\n",
       "10       (black, currant)   0.000816\n",
       "11         (black, fruit)   0.000806\n",
       "12          (french, oak)   0.000766\n",
       "13     (palate, delivers)   0.000766\n",
       "14          (red, cherry)   0.000752\n",
       "15        (firm, tannins)   0.000724\n",
       "16        (cherry, fruit)   0.000719\n",
       "17      (dark, chocolate)   0.000709\n",
       "18        (finish, drink)   0.000706\n",
       "19         (nose, palate)   0.000647"
      ]
     },
     "execution_count": 67,
     "metadata": {},
     "output_type": "execute_result"
    }
   ],
   "source": [
    "create_bigram(stopped_tokens_1)"
   ]
  },
  {
   "cell_type": "code",
   "execution_count": 63,
   "metadata": {},
   "outputs": [
    {
     "data": {
      "image/png": "[encoded data removed]",
      "text/plain": [
       "<Figure size 432x288 with 1 Axes>"
      ]
     },
     "metadata": {
      "needs_background": "light"
     },
     "output_type": "display_data"
    }
   ],
   "source": [
    "from os import path\n",
    "from PIL import Image\n",
    "import numpy as np\n",
    "import matplotlib.pyplot as plt\n",
    "import os\n",
    "d = path.dirname(__file__) if \"__file__\" in locals() else os.getcwd()\n",
    "wine_mask = np.array(Image.open(path.join(d,'wine glass mask.png')))\n",
    "wc = WordCloud(background_color='white', stopwords='stopwords_list', collocations=False, mask=wine_mask,\n",
    "               contour_color='steelblue')\n",
    "wc.generate(','.join(stopped_tokens))\n",
    "wc.to_file(path.join(d, 'wine.png'))\n",
    "plt.imshow(wc, interpolation='bilinear')\n",
    "plt.axis(\"off\")\n",
    "plt.show()"
   ]
  },
  {
   "cell_type": "markdown",
   "metadata": {},
   "source": [
    "# Conclusion\n",
    "\n",
    "### I was able to successfully classify our wine data by its two groups, cheap or expensive, fairly confidently, with 73% of our cheap wine being correctly classified and 79% of our expensive wine being correctly classified. I was also able to identify that each group contains unique keywords, such as \"fresh, berry, crisp, and dry\" for the cheap wines, and \"oak, rich, blackberry, and cabernet\" for the expensive wines. I believe that these results can provide a lot of unique insight to wineries, especially considering that these unique results came from the thoughts of professional wine reviewers. Wineries can take these words and use them to create unique scents, aromas, and tastes in either their pre-existing products or any new ones they may create. They can also boost their products they already have in their marketing knowing that there are specific words that are unqiue to the price point of certain bottles of wine."
   ]
  },
  {
   "cell_type": "code",
   "execution_count": null,
   "metadata": {},
   "outputs": [],
   "source": []
  }
 ],
 "metadata": {
  "kernelspec": {
   "display_name": "Python [conda env:learn-env] *",
   "language": "python",
   "name": "conda-env-learn-env-py"
  },
  "language_info": {
   "codemirror_mode": {
    "name": "ipython",
    "version": 3
   },
   "file_extension": ".py",
   "mimetype": "text/x-python",
   "name": "python",
   "nbconvert_exporter": "python",
   "pygments_lexer": "ipython3",
   "version": "3.6.9"
  },
  "toc": {
   "base_numbering": 1,
   "nav_menu": {},
   "number_sections": true,
   "sideBar": true,
   "skip_h1_title": false,
   "title_cell": "Table of Contents",
   "title_sidebar": "Contents",
   "toc_cell": false,
   "toc_position": {},
   "toc_section_display": true,
   "toc_window_display": false
  }
 },
 "nbformat": 4,
 "nbformat_minor": 2
}
